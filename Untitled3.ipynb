{
 "cells": [
  {
   "cell_type": "code",
   "execution_count": 1,
   "id": "d076f40b-7651-416c-b058-7d818a89b391",
   "metadata": {},
   "outputs": [],
   "source": [
    "prime = {2,3,5,7}"
   ]
  },
  {
   "cell_type": "code",
   "execution_count": 6,
   "id": "206ab36a-5365-496f-9328-79d0559a9873",
   "metadata": {},
   "outputs": [],
   "source": [
    "s = [10**0, 10**1]"
   ]
  },
  {
   "cell_type": "code",
   "execution_count": 7,
   "id": "7fa57cb5-6bae-4fe1-a35e-378339549487",
   "metadata": {},
   "outputs": [
    {
     "data": {
      "text/plain": [
       "[1, 10]"
      ]
     },
     "execution_count": 7,
     "metadata": {},
     "output_type": "execute_result"
    }
   ],
   "source": [
    "s"
   ]
  },
  {
   "cell_type": "code",
   "execution_count": 8,
   "id": "c9540b89-22d5-4f74-8ff1-b866766df404",
   "metadata": {},
   "outputs": [],
   "source": [
    "p = [10**1 , 10**2]"
   ]
  },
  {
   "cell_type": "code",
   "execution_count": 18,
   "id": "a1952dfd-79a7-41d0-8025-138cd50a3dc5",
   "metadata": {},
   "outputs": [
    {
     "data": {
      "text/plain": [
       "[10, 100]"
      ]
     },
     "execution_count": 18,
     "metadata": {},
     "output_type": "execute_result"
    }
   ],
   "source": [
    "p"
   ]
  },
  {
   "cell_type": "code",
   "execution_count": 24,
   "id": "37f4ceb9-f911-4f31-8177-7c4fa5807c33",
   "metadata": {},
   "outputs": [],
   "source": [
    "def is_prime (num):\n",
    "    return True"
   ]
  },
  {
   "cell_type": "code",
   "execution_count": 25,
   "id": "f3339630-286d-40a8-877c-55c03f5dac5f",
   "metadata": {},
   "outputs": [
    {
     "ename": "IndentationError",
     "evalue": "expected an indented block after 'if' statement on line 4 (2467798482.py, line 5)",
     "output_type": "error",
     "traceback": [
      "\u001b[0;36m  Cell \u001b[0;32mIn [25], line 5\u001b[0;36m\u001b[0m\n\u001b[0;31m    print (num)\u001b[0m\n\u001b[0m    ^\u001b[0m\n\u001b[0;31mIndentationError\u001b[0m\u001b[0;31m:\u001b[0m expected an indented block after 'if' statement on line 4\n"
     ]
    }
   ],
   "source": [
    "n = 1\n",
    "\n",
    "for num in range ( 10 ** (n-1) , 10 ** (n)):\n",
    "    if is_prime(num):\n",
    "    print (num)"
   ]
  },
  {
   "cell_type": "code",
   "execution_count": null,
   "id": "bccfbecb-f3bc-47c0-abbd-36ae63d32764",
   "metadata": {},
   "outputs": [],
   "source": []
  }
 ],
 "metadata": {
  "kernelspec": {
   "display_name": "Python 3 (ipykernel)",
   "language": "python",
   "name": "python3"
  },
  "language_info": {
   "codemirror_mode": {
    "name": "ipython",
    "version": 3
   },
   "file_extension": ".py",
   "mimetype": "text/x-python",
   "name": "python",
   "nbconvert_exporter": "python",
   "pygments_lexer": "ipython3",
   "version": "3.10.4"
  },
  "widgets": {
   "application/vnd.jupyter.widget-state+json": {
    "state": {},
    "version_major": 2,
    "version_minor": 0
   }
  }
 },
 "nbformat": 4,
 "nbformat_minor": 5
}
