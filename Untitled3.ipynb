{
 "cells": [
  {
   "cell_type": "code",
   "execution_count": 1,
   "id": "d076f40b-7651-416c-b058-7d818a89b391",
   "metadata": {},
   "outputs": [],
   "source": [
    "prime = {2,3,5,7}"
   ]
  },
  {
   "cell_type": "code",
   "execution_count": 6,
   "id": "206ab36a-5365-496f-9328-79d0559a9873",
   "metadata": {},
   "outputs": [],
   "source": [
    "s = [10**0, 10**1]"
   ]
  },
  {
   "cell_type": "code",
   "execution_count": 7,
   "id": "7fa57cb5-6bae-4fe1-a35e-378339549487",
   "metadata": {},
   "outputs": [
    {
     "data": {
      "text/plain": [
       "[1, 10]"
      ]
     },
     "execution_count": 7,
     "metadata": {},
     "output_type": "execute_result"
    }
   ],
   "source": [
    "s"
   ]
  },
  {
   "cell_type": "code",
   "execution_count": 8,
   "id": "c9540b89-22d5-4f74-8ff1-b866766df404",
   "metadata": {},
   "outputs": [],
   "source": [
    "p = [10**1 , 10**2]"
   ]
  },
  {
   "cell_type": "code",
   "execution_count": 18,
   "id": "a1952dfd-79a7-41d0-8025-138cd50a3dc5",
   "metadata": {},
   "outputs": [
    {
     "data": {
      "text/plain": [
       "[10, 100]"
      ]
     },
     "execution_count": 18,
     "metadata": {},
     "output_type": "execute_result"
    }
   ],
   "source": [
    "p"
   ]
  },
  {
   "cell_type": "code",
   "execution_count": 24,
   "id": "37f4ceb9-f911-4f31-8177-7c4fa5807c33",
   "metadata": {},
   "outputs": [],
   "source": [
    "def is_prime (num):\n",
    "    return True"
   ]
  },
  {
   "cell_type": "code",
   "execution_count": 27,
   "id": "f3339630-286d-40a8-877c-55c03f5dac5f",
   "metadata": {},
   "outputs": [
    {
     "ename": "IndentationError",
     "evalue": "expected an indented block after 'if' statement on line 4 (2815445680.py, line 5)",
     "output_type": "error",
     "traceback": [
      "\u001b[0;36m  Cell \u001b[0;32mIn [27], line 5\u001b[0;36m\u001b[0m\n\u001b[0;31m    print (num)\u001b[0m\n\u001b[0m    ^\u001b[0m\n\u001b[0;31mIndentationError\u001b[0m\u001b[0;31m:\u001b[0m expected an indented block after 'if' statement on line 4\n"
     ]
    }
   ],
   "source": [
    "n = 1\n",
    "\n",
    "for num in range ( 10 ** (n-1) , 10 ** (n)):\n",
    "    if is_prime (num):\n",
    "    print (num)"
   ]
  },
  {
   "cell_type": "code",
   "execution_count": 31,
   "id": "bccfbecb-f3bc-47c0-abbd-36ae63d32764",
   "metadata": {},
   "outputs": [
    {
     "ename": "SyntaxError",
     "evalue": "unmatched '}' (1451390494.py, line 20)",
     "output_type": "error",
     "traceback": [
      "\u001b[0;36m  Cell \u001b[0;32mIn [31], line 20\u001b[0;36m\u001b[0m\n\u001b[0;31m    }\u001b[0m\n\u001b[0m    ^\u001b[0m\n\u001b[0;31mSyntaxError\u001b[0m\u001b[0;31m:\u001b[0m unmatched '}'\n"
     ]
    }
   ],
   "source": [
    "primes = \n",
    "2, 3, 5, 7, 11, 13, 17, 19, 23, 29, 31, 37, 41,\n",
    "43, 47, 53, 59, 61, 67, 71, 73, 79, 83, 89, 97,\n",
    "101, 103, 107, 109, 113, 127, 131, 137, 139, 149,\n",
    "151, 157, 163, 167, 173, 179, 181, 191, 193, 197,\n",
    "199, 211, 223, 227, 229, 233, 239, 241, 251, 257,\n",
    "263, 269, 271, 277, 281, 283, 293, 307, 311, 313,\n",
    "317, 331, 337, 347, 349, 353, 359, 367, 373, 379,\n",
    "383, 389, 397, 401, 409, 419, 421, 431, 433, 439,\n",
    "443, 449, 457, 461, 463, 467, 479, 487, 491, 499,\n",
    "503, 509, 521, 523, 541, 547, 557, 563, 569, 571,\n",
    "577, 587, 593, 599, 601, 607, 613, 617, 619, 631,\n",
    "641, 643, 647, 653, 659, 661, 673, 677, 683, 691,\n",
    "701, 709, 719, 727, 733, 739, 743, 751, 757, 761,\n",
    "769, 773, 787, 797, 809, 811, 821, 823, 827, 829,\n",
    "839, 853, 857, 859, 863, 877, 881, 883, 887, 907,\n",
    "911, 919, 929, 937, 941, 947, 953, 967, 971, 977,\n",
    "983, 991\n",
    "\n",
    "}"
   ]
  },
  {
   "cell_type": "code",
   "execution_count": 33,
   "id": "f89ab249-2218-40a6-bf03-f7d649b70f13",
   "metadata": {},
   "outputs": [],
   "source": [
    "primes = {2, 3, 5, 7, 11, 13, 17, 19, 23, 29, 31, 37, 41,\n",
    "          43, 47, 53, 59, 61, 67, 71, 73, 79, 83, 89, 97,\n",
    "          101, 103, 107, 109, 113, 127, 131, 137, 139, 149,\n",
    "          151, 157, 163, 167, 173, 179, 181, 191, 193, 197,\n",
    "          199, 211, 223, 227, 229, 233, 239, 241, 251, 257,\n",
    "          263, 269, 271, 277, 281, 283, 293, 307, 311, 313,\n",
    "          317, 331, 337, 347, 349, 353, 359, 367, 373, 379,\n",
    "          383, 389, 397, 401, 409, 419, 421, 431, 433, 439,\n",
    "          443, 449, 457, 461, 463, 467, 479, 487, 491, 499,\n",
    "          503, 509, 521, 523, 541, 547, 557, 563, 569, 571,\n",
    "          577, 587, 593, 599, 601, 607, 613, 617, 619, 631,\n",
    "          641, 643, 647, 653, 659, 661, 673, 677, 683, 691,\n",
    "          701, 709, 719, 727, 733, 739, 743, 751, 757, 761,\n",
    "          769, 773, 787, 797, 809, 811, 821, 823, 827, 829,\n",
    "          839, 853, 857, 859, 863, 877, 881, 883, 887, 907,\n",
    "          911, 919, 929, 937, 941, 947, 953, 967, 971, 977,\n",
    "          983, 991\n",
    "}"
   ]
  },
  {
   "cell_type": "code",
   "execution_count": 34,
   "id": "c627133d-9414-4718-b3d0-73819d1256db",
   "metadata": {},
   "outputs": [],
   "source": [
    "check_13 = 13 in primes"
   ]
  },
  {
   "cell_type": "code",
   "execution_count": 35,
   "id": "100332d8-0e2f-48fa-873d-265fd721bc99",
   "metadata": {},
   "outputs": [
    {
     "data": {
      "text/plain": [
       "True"
      ]
     },
     "execution_count": 35,
     "metadata": {},
     "output_type": "execute_result"
    }
   ],
   "source": [
    "check_13"
   ]
  },
  {
   "cell_type": "code",
   "execution_count": 36,
   "id": "4d4e71fb-58c5-4a4a-b652-35c88a87ca51",
   "metadata": {},
   "outputs": [
    {
     "name": "stdout",
     "output_type": "stream",
     "text": [
      "13 is prime:  True\n"
     ]
    }
   ],
   "source": [
    "print(\"13 is prime: \",check_13)"
   ]
  },
  {
   "cell_type": "code",
   "execution_count": 47,
   "id": "5f95a378-5086-49d9-a6cd-23aabe350175",
   "metadata": {},
   "outputs": [],
   "source": [
    "check_973 = 973 in prime"
   ]
  },
  {
   "cell_type": "code",
   "execution_count": 48,
   "id": "c06ebeb5-8f8f-4a1f-9d26-b002193586f4",
   "metadata": {},
   "outputs": [
    {
     "name": "stdout",
     "output_type": "stream",
     "text": [
      "973 is prime:  False\n"
     ]
    }
   ],
   "source": [
    "print(\"973 is prime: \",check_973)"
   ]
  },
  {
   "cell_type": "code",
   "execution_count": null,
   "id": "e73a8c72-0f09-4b0d-a3ac-f301b317859f",
   "metadata": {},
   "outputs": [],
   "source": []
  }
 ],
 "metadata": {
  "kernelspec": {
   "display_name": "Python 3 (ipykernel)",
   "language": "python",
   "name": "python3"
  },
  "language_info": {
   "codemirror_mode": {
    "name": "ipython",
    "version": 3
   },
   "file_extension": ".py",
   "mimetype": "text/x-python",
   "name": "python",
   "nbconvert_exporter": "python",
   "pygments_lexer": "ipython3",
   "version": "3.10.4"
  },
  "widgets": {
   "application/vnd.jupyter.widget-state+json": {
    "state": {},
    "version_major": 2,
    "version_minor": 0
   }
  }
 },
 "nbformat": 4,
 "nbformat_minor": 5
}
