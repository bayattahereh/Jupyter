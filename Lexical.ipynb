{
 "cells": [
  {
   "cell_type": "code",
   "execution_count": 4,
   "id": "9fd6460f-5725-4aad-b055-30d156f8d6b1",
   "metadata": {},
   "outputs": [
    {
     "data": {
      "text/plain": [
       "[[['foo', 'bar'], [1, 2, 3]], {1, 3, 5}, {'a': 1, 'b': 2}]"
      ]
     },
     "execution_count": 4,
     "metadata": {},
     "output_type": "execute_result"
    }
   ],
   "source": [
    "[[['foo', 'bar'], [1, 2, 3]], {1, 3, 5}, {'a': 1, 'b': 2}]"
   ]
  },
  {
   "cell_type": "code",
   "execution_count": 5,
   "id": "95638c0d-c3c0-4cc2-9e95-6f87931f3d4f",
   "metadata": {},
   "outputs": [],
   "source": [
    "x = 1; y = 2; z = 3"
   ]
  },
  {
   "cell_type": "code",
   "execution_count": 6,
   "id": "385306a4-c6be-4112-91da-48c96f8eda91",
   "metadata": {},
   "outputs": [
    {
     "name": "stdout",
     "output_type": "stream",
     "text": [
      "1\n",
      "2\n",
      "3\n"
     ]
    }
   ],
   "source": [
    "print(x); print(y); print(z)"
   ]
  },
  {
   "cell_type": "code",
   "execution_count": 9,
   "id": "e639d628-b190-433d-9bee-19be28e4481f",
   "metadata": {},
   "outputs": [],
   "source": [
    "x, y, z = 1, 2, 3 # i am comment"
   ]
  },
  {
   "cell_type": "code",
   "execution_count": 8,
   "id": "faae46b7-f2f9-48fe-a7b9-5b10ae0d251b",
   "metadata": {},
   "outputs": [
    {
     "name": "stdout",
     "output_type": "stream",
     "text": [
      "1\n",
      "2\n",
      "3\n"
     ]
    }
   ],
   "source": [
    "print(x); print(y); print(z)"
   ]
  },
  {
   "cell_type": "code",
   "execution_count": 10,
   "id": "95735cbf-3908-424a-9054-b188e2345c15",
   "metadata": {},
   "outputs": [],
   "source": [
    "a = ['foo', 'bar', 'baz']  # I am a comment."
   ]
  },
  {
   "cell_type": "code",
   "execution_count": 11,
   "id": "8b0a8f9e-6fbc-4093-99f3-8af4a016b34f",
   "metadata": {},
   "outputs": [
    {
     "data": {
      "text/plain": [
       "['foo', 'bar', 'baz']"
      ]
     },
     "execution_count": 11,
     "metadata": {},
     "output_type": "execute_result"
    }
   ],
   "source": [
    "a"
   ]
  },
  {
   "cell_type": "code",
   "execution_count": 12,
   "id": "7af77509-49e2-4ea8-ba64-28d5036d6547",
   "metadata": {},
   "outputs": [],
   "source": [
    "a = 'foobar # I am *not* a comment.'"
   ]
  },
  {
   "cell_type": "code",
   "execution_count": 13,
   "id": "98f2ec1f-6717-4393-b323-0e14c1b8c39f",
   "metadata": {},
   "outputs": [
    {
     "data": {
      "text/plain": [
       "'foobar # I am *not* a comment.'"
      ]
     },
     "execution_count": 13,
     "metadata": {},
     "output_type": "execute_result"
    }
   ],
   "source": [
    "a"
   ]
  },
  {
   "cell_type": "code",
   "execution_count": 17,
   "id": "561d6720-1c54-4f48-b3a5-f40e530ff67f",
   "metadata": {},
   "outputs": [],
   "source": [
    "x = (1 + 2           # I am a comment.\n",
    "     + 3 + 4         # Me too.\n",
    "     + 5 + 6)"
   ]
  },
  {
   "cell_type": "code",
   "execution_count": 18,
   "id": "665ac78d-24a4-41e8-85d8-1c9f055186fd",
   "metadata": {},
   "outputs": [
    {
     "data": {
      "text/plain": [
       "21"
      ]
     },
     "execution_count": 18,
     "metadata": {},
     "output_type": "execute_result"
    }
   ],
   "source": [
    "x"
   ]
  },
  {
   "cell_type": "code",
   "execution_count": 19,
   "id": "7da51072-0b25-471b-a690-f0f0f1e29454",
   "metadata": {},
   "outputs": [],
   "source": [
    "x = (1 + 2           # I am a comment.\n",
    "     + 3 + 4         # Me too.\n",
    "     + 5 + 6)"
   ]
  },
  {
   "cell_type": "code",
   "execution_count": 20,
   "id": "e4ea7425-dcfc-4915-9898-9884f7473683",
   "metadata": {},
   "outputs": [
    {
     "data": {
      "text/plain": [
       "21"
      ]
     },
     "execution_count": 20,
     "metadata": {},
     "output_type": "execute_result"
    }
   ],
   "source": [
    "x"
   ]
  },
  {
   "cell_type": "code",
   "execution_count": 27,
   "id": "b108f4c2-2b73-415a-bc10-95c35e3158e1",
   "metadata": {},
   "outputs": [],
   "source": [
    "a = [\n",
    "    'foo', 'bar',    # Me three.\n",
    "    'baz', 'qux'\n",
    "]"
   ]
  },
  {
   "cell_type": "code",
   "execution_count": 28,
   "id": "3ed4f3de-4d87-40ab-9b6a-2ba88685eb74",
   "metadata": {},
   "outputs": [
    {
     "data": {
      "text/plain": [
       "['foo', 'bar', 'baz', 'qux']"
      ]
     },
     "execution_count": 28,
     "metadata": {},
     "output_type": "execute_result"
    }
   ],
   "source": [
    "a"
   ]
  },
  {
   "cell_type": "code",
   "execution_count": 29,
   "id": "fab4ddff-30f0-4417-aba8-113d9d260977",
   "metadata": {},
   "outputs": [
    {
     "ename": "SyntaxError",
     "evalue": "unexpected character after line continuation character (1706008267.py, line 1)",
     "output_type": "error",
     "traceback": [
      "\u001b[0;36m  Cell \u001b[0;32mIn [29], line 1\u001b[0;36m\u001b[0m\n\u001b[0;31m    x = 1 + 2 + \\   # I wish to be comment, but I'm not.\u001b[0m\n\u001b[0m                 ^\u001b[0m\n\u001b[0;31mSyntaxError\u001b[0m\u001b[0;31m:\u001b[0m unexpected character after line continuation character\n"
     ]
    }
   ],
   "source": [
    "x = 1 + 2 + \\   # I wish to be comment, but I'm not."
   ]
  },
  {
   "cell_type": "code",
   "execution_count": 30,
   "id": "ae8b9a5b-0da1-4d1a-aacb-e81154b55b25",
   "metadata": {},
   "outputs": [
    {
     "ename": "SyntaxError",
     "evalue": "unexpected character after line continuation character (1706008267.py, line 1)",
     "output_type": "error",
     "traceback": [
      "\u001b[0;36m  Cell \u001b[0;32mIn [30], line 1\u001b[0;36m\u001b[0m\n\u001b[0;31m    x = 1 + 2 + \\   # I wish to be comment, but I'm not.\u001b[0m\n\u001b[0m                 ^\u001b[0m\n\u001b[0;31mSyntaxError\u001b[0m\u001b[0;31m:\u001b[0m unexpected character after line continuation character\n"
     ]
    }
   ],
   "source": [
    "x = 1 + 2 + \\   # I wish to be comment, but I'm not."
   ]
  },
  {
   "cell_type": "code",
   "execution_count": 31,
   "id": "82a90cb1-63c9-4bca-9f36-905a9a1a9623",
   "metadata": {},
   "outputs": [
    {
     "name": "stdout",
     "output_type": "stream",
     "text": [
      "The area of a circle with radius 12.35 is 479.163565508706\n"
     ]
    }
   ],
   "source": [
    "\"\"\"Initialize value for radius of circle.\n",
    "\n",
    "Then calculate the area of the circle\n",
    "and display the result to the console.\n",
    "\"\"\"\n",
    "\n",
    "pi = 3.1415926536\n",
    "r = 12.35\n",
    "\n",
    "area = pi * (r ** 2)\n",
    "\n",
    "print('The area of a circle with radius', r, 'is', area)"
   ]
  },
  {
   "cell_type": "code",
   "execution_count": 32,
   "id": "6dae3801-c0dd-482b-83ea-7e2b2ba59aba",
   "metadata": {},
   "outputs": [
    {
     "ename": "SyntaxError",
     "evalue": "invalid syntax (3137827043.py, line 2)",
     "output_type": "error",
     "traceback": [
      "\u001b[0;36m  Cell \u001b[0;32mIn [32], line 2\u001b[0;36m\u001b[0m\n\u001b[0;31m    to tal = 50\u001b[0m\n\u001b[0m       ^\u001b[0m\n\u001b[0;31mSyntaxError\u001b[0m\u001b[0;31m:\u001b[0m invalid syntax\n"
     ]
    }
   ],
   "source": [
    "total = 50\n",
    "to tal = 50\n",
    "t o t a l=5 0"
   ]
  },
  {
   "cell_type": "code",
   "execution_count": 1,
   "id": "427902ad-987f-47d2-9a70-bc6d52aa8de4",
   "metadata": {},
   "outputs": [
    {
     "ename": "NameError",
     "evalue": "name 'var' is not defined",
     "output_type": "error",
     "traceback": [
      "\u001b[0;31m---------------------------------------------------------------------------\u001b[0m",
      "\u001b[0;31mNameError\u001b[0m                                 Traceback (most recent call last)",
      "Cell \u001b[0;32mIn [1], line 1\u001b[0m\n\u001b[0;32m----> 1\u001b[0m v\u001b[38;5;241m=\u001b[39m \u001b[43mvar\u001b[49m\n",
      "\u001b[0;31mNameError\u001b[0m: name 'var' is not defined"
     ]
    }
   ],
   "source": [
    "v= var\n"
   ]
  },
  {
   "cell_type": "code",
   "execution_count": null,
   "id": "37bb7e4e-3ada-42b2-9eea-f68bcfafc2c9",
   "metadata": {},
   "outputs": [],
   "source": []
  },
  {
   "cell_type": "code",
   "execution_count": null,
   "id": "1fa6e508-b8cd-4aba-9d91-f8b291359158",
   "metadata": {},
   "outputs": [],
   "source": []
  },
  {
   "cell_type": "code",
   "execution_count": null,
   "id": "cd7bf55f-14e4-48ba-bd9a-86ec25a81ffd",
   "metadata": {},
   "outputs": [],
   "source": []
  },
  {
   "cell_type": "code",
   "execution_count": null,
   "id": "d46833fb-c4e4-49bf-b022-b2dee3913075",
   "metadata": {},
   "outputs": [],
   "source": []
  },
  {
   "cell_type": "code",
   "execution_count": null,
   "id": "a1ad5523-ddd8-4e33-aa1e-5cf6100a569a",
   "metadata": {},
   "outputs": [],
   "source": []
  },
  {
   "cell_type": "code",
   "execution_count": null,
   "id": "c56429c7-0e8d-49cf-be46-271900170ebc",
   "metadata": {},
   "outputs": [],
   "source": []
  },
  {
   "cell_type": "code",
   "execution_count": null,
   "id": "efe5d9ae-22b9-4c04-8175-893b2437e19c",
   "metadata": {},
   "outputs": [],
   "source": []
  }
 ],
 "metadata": {
  "kernelspec": {
   "display_name": "Python 3 (ipykernel)",
   "language": "python",
   "name": "python3"
  },
  "language_info": {
   "codemirror_mode": {
    "name": "ipython",
    "version": 3
   },
   "file_extension": ".py",
   "mimetype": "text/x-python",
   "name": "python",
   "nbconvert_exporter": "python",
   "pygments_lexer": "ipython3",
   "version": "3.10.4"
  },
  "widgets": {
   "application/vnd.jupyter.widget-state+json": {
    "state": {},
    "version_major": 2,
    "version_minor": 0
   }
  }
 },
 "nbformat": 4,
 "nbformat_minor": 5
}
