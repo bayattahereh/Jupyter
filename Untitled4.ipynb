{
 "cells": [
  {
   "cell_type": "code",
   "execution_count": 6,
   "id": "40c35563-0111-42cd-9c3c-ae45f1be8c88",
   "metadata": {},
   "outputs": [],
   "source": [
    " x = 3"
   ]
  },
  {
   "cell_type": "code",
   "execution_count": 9,
   "id": "bb4554d7-4f4e-4466-9e51-56c260590611",
   "metadata": {},
   "outputs": [
    {
     "name": "stdout",
     "output_type": "stream",
     "text": [
      "x is 2\n"
     ]
    }
   ],
   "source": [
    "if int :\n",
    "    print ( 'x is 2')"
   ]
  },
  {
   "cell_type": "code",
   "execution_count": 10,
   "id": "0a0aa5e8-cb8f-4e1a-96a3-f842ddbcfccf",
   "metadata": {},
   "outputs": [
    {
     "data": {
      "text/plain": [
       "True"
      ]
     },
     "execution_count": 10,
     "metadata": {},
     "output_type": "execute_result"
    }
   ],
   "source": [
    "bool (int)"
   ]
  },
  {
   "cell_type": "code",
   "execution_count": 13,
   "id": "90c1e15c-a9c3-403d-8efd-bf9154b2c358",
   "metadata": {},
   "outputs": [],
   "source": [
    "x = 6\n",
    "y = 5"
   ]
  },
  {
   "cell_type": "code",
   "execution_count": 14,
   "id": "c1f2d53d-409d-4aee-9256-77a7358910c2",
   "metadata": {},
   "outputs": [],
   "source": [
    "if x < y:\n",
    "    print ('yes')"
   ]
  },
  {
   "cell_type": "code",
   "execution_count": 18,
   "id": "ec63b0d2-f6be-4633-a011-7c778626d98e",
   "metadata": {},
   "outputs": [
    {
     "name": "stdout",
     "output_type": "stream",
     "text": [
      "ali khar ast\n"
     ]
    }
   ],
   "source": [
    "user = 'ali'\n",
    "age = 19\n",
    "if user == 'ali':\n",
    "    if age > 18: \n",
    "        print ('ali khar ast')"
   ]
  },
  {
   "cell_type": "code",
   "execution_count": 24,
   "id": "9dabbb8d-998a-4cbf-80e6-3ce3bc6af793",
   "metadata": {},
   "outputs": [
    {
     "name": "stdout",
     "output_type": "stream",
     "text": [
      "x is positive\n"
     ]
    }
   ],
   "source": [
    "if x > 0 :\n",
    "    print ('x is positive')\n",
    "else:\n",
    "    print ('x is negative ')"
   ]
  },
  {
   "cell_type": "code",
   "execution_count": null,
   "id": "c81f1cab-bdc3-4aaf-bcf4-fe765b1d1b73",
   "metadata": {},
   "outputs": [],
   "source": []
  }
 ],
 "metadata": {
  "kernelspec": {
   "display_name": "Python 3 (ipykernel)",
   "language": "python",
   "name": "python3"
  },
  "language_info": {
   "codemirror_mode": {
    "name": "ipython",
    "version": 3
   },
   "file_extension": ".py",
   "mimetype": "text/x-python",
   "name": "python",
   "nbconvert_exporter": "python",
   "pygments_lexer": "ipython3",
   "version": "3.10.4"
  },
  "widgets": {
   "application/vnd.jupyter.widget-state+json": {
    "state": {},
    "version_major": 2,
    "version_minor": 0
   }
  }
 },
 "nbformat": 4,
 "nbformat_minor": 5
}
