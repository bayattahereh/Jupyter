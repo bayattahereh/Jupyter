{
 "cells": [
  {
   "cell_type": "code",
   "execution_count": 6,
   "id": "40c35563-0111-42cd-9c3c-ae45f1be8c88",
   "metadata": {},
   "outputs": [],
   "source": [
    " x = 3"
   ]
  },
  {
   "cell_type": "code",
   "execution_count": 9,
   "id": "bb4554d7-4f4e-4466-9e51-56c260590611",
   "metadata": {},
   "outputs": [
    {
     "name": "stdout",
     "output_type": "stream",
     "text": [
      "x is 2\n"
     ]
    }
   ],
   "source": [
    "if int :\n",
    "    print ( 'x is 2')"
   ]
  },
  {
   "cell_type": "code",
   "execution_count": 10,
   "id": "0a0aa5e8-cb8f-4e1a-96a3-f842ddbcfccf",
   "metadata": {},
   "outputs": [
    {
     "data": {
      "text/plain": [
       "True"
      ]
     },
     "execution_count": 10,
     "metadata": {},
     "output_type": "execute_result"
    }
   ],
   "source": [
    "bool (int)"
   ]
  },
  {
   "cell_type": "code",
   "execution_count": 13,
   "id": "90c1e15c-a9c3-403d-8efd-bf9154b2c358",
   "metadata": {},
   "outputs": [],
   "source": [
    "x = 6\n",
    "y = 5"
   ]
  },
  {
   "cell_type": "code",
   "execution_count": 14,
   "id": "c1f2d53d-409d-4aee-9256-77a7358910c2",
   "metadata": {},
   "outputs": [],
   "source": [
    "if x < y:\n",
    "    print ('yes')"
   ]
  },
  {
   "cell_type": "code",
   "execution_count": 18,
   "id": "ec63b0d2-f6be-4633-a011-7c778626d98e",
   "metadata": {},
   "outputs": [
    {
     "name": "stdout",
     "output_type": "stream",
     "text": [
      "ali khar ast\n"
     ]
    }
   ],
   "source": [
    "user = 'ali'\n",
    "age = 19\n",
    "if user == 'ali':\n",
    "    if age > 18: \n",
    "        print ('ali khar ast')"
   ]
  },
  {
   "cell_type": "code",
   "execution_count": 24,
   "id": "9dabbb8d-998a-4cbf-80e6-3ce3bc6af793",
   "metadata": {},
   "outputs": [
    {
     "name": "stdout",
     "output_type": "stream",
     "text": [
      "x is positive\n"
     ]
    }
   ],
   "source": [
    "if x > 0 :\n",
    "    print ('x is positive')\n",
    "else:\n",
    "    print ('x is negative ')"
   ]
  },
  {
   "cell_type": "code",
   "execution_count": 27,
   "id": "c81f1cab-bdc3-4aaf-bcf4-fe765b1d1b73",
   "metadata": {},
   "outputs": [
    {
     "name": "stdout",
     "output_type": "stream",
     "text": [
      "Marg bar dictator\n"
     ]
    }
   ],
   "source": [
    "if x == 0:\n",
    "    print ( 'x euals to 0')\n",
    "elif x == 3:\n",
    "    print ( ' I am beautiful')\n",
    "else :\n",
    "    print ('Marg bar dictator')"
   ]
  },
  {
   "cell_type": "code",
   "execution_count": 29,
   "id": "b6b3651e-1344-4643-8f78-2c821a7fbd86",
   "metadata": {},
   "outputs": [
    {
     "data": {
      "text/plain": [
       "True"
      ]
     },
     "execution_count": 29,
     "metadata": {},
     "output_type": "execute_result"
    }
   ],
   "source": [
    "True or 0/0"
   ]
  },
  {
   "cell_type": "code",
   "execution_count": 30,
   "id": "4ecf1d1a-d92c-4c2d-9fa4-10c8ae0ddd4f",
   "metadata": {},
   "outputs": [
    {
     "ename": "ZeroDivisionError",
     "evalue": "division by zero",
     "output_type": "error",
     "traceback": [
      "\u001b[0;31m---------------------------------------------------------------------------\u001b[0m",
      "\u001b[0;31mZeroDivisionError\u001b[0m                         Traceback (most recent call last)",
      "Cell \u001b[0;32mIn [30], line 1\u001b[0m\n\u001b[0;32m----> 1\u001b[0m \u001b[38;5;241;43m0\u001b[39;49m\u001b[38;5;241;43m/\u001b[39;49m\u001b[38;5;241;43m0\u001b[39;49m \u001b[38;5;129;01mor\u001b[39;00m \u001b[38;5;28;01mTrue\u001b[39;00m\n",
      "\u001b[0;31mZeroDivisionError\u001b[0m: division by zero"
     ]
    }
   ],
   "source": [
    "0/0 or True"
   ]
  },
  {
   "cell_type": "code",
   "execution_count": 31,
   "id": "aa139a65-23fc-4b6b-a457-3047bba21b5d",
   "metadata": {},
   "outputs": [
    {
     "name": "stdout",
     "output_type": "stream",
     "text": [
      "Hello Joe\n"
     ]
    }
   ],
   "source": [
    "name = 'Joe'\n",
    "\n",
    "if name in ['Fred', 'Xander', 'Joe', 'Arnold']:\n",
    "    print(f'Hello {name}')\n",
    "else:\n",
    "    print(\"I don't know who you are!\")"
   ]
  },
  {
   "cell_type": "code",
   "execution_count": 25,
   "id": "f756b344-625d-4e3e-acc9-9600e2619e3c",
   "metadata": {},
   "outputs": [
    {
     "name": "stdout",
     "output_type": "stream",
     "text": [
      "5\n"
     ]
    }
   ],
   "source": [
    "n = 6\n",
    "while n > 5 :\n",
    "    n -= 1\n",
    "    if n == 3:\n",
    "        break\n",
    "    print (n)"
   ]
  },
  {
   "cell_type": "code",
   "execution_count": 20,
   "id": "e96651c7-2a56-48fc-bd84-159e3d2947d3",
   "metadata": {},
   "outputs": [
    {
     "data": {
      "text/plain": [
       "3"
      ]
     },
     "execution_count": 20,
     "metadata": {},
     "output_type": "execute_result"
    }
   ],
   "source": [
    "n"
   ]
  },
  {
   "cell_type": "code",
   "execution_count": 5,
   "id": "c693bfe0-2c5c-4327-8e51-9c5cad3ed175",
   "metadata": {},
   "outputs": [
    {
     "data": {
      "text/plain": [
       "'bar'"
      ]
     },
     "execution_count": 5,
     "metadata": {},
     "output_type": "execute_result"
    }
   ],
   "source": [
    " a.pop(1)"
   ]
  },
  {
   "cell_type": "code",
   "execution_count": 13,
   "id": "430bffe3-2c10-458c-b953-fa88d7cb9a4f",
   "metadata": {},
   "outputs": [
    {
     "name": "stdout",
     "output_type": "stream",
     "text": [
      "x is 5\n"
     ]
    }
   ],
   "source": [
    "x = 5\n",
    "\n",
    "if x == 5:\n",
    "    print('x is 5')\n",
    "elif x > 6:\n",
    "    print('x is greater than 6')\n",
    "else:\n",
    "    print('else')"
   ]
  },
  {
   "cell_type": "code",
   "execution_count": 28,
   "id": "5c274a59-5920-493d-bba9-da163220451a",
   "metadata": {},
   "outputs": [
    {
     "name": "stdout",
     "output_type": "stream",
     "text": [
      "0\n",
      "1\n",
      "2\n",
      "3\n",
      "4\n",
      "5\n",
      "6\n",
      "7\n",
      "8\n",
      "9\n",
      "loop is done\n"
     ]
    }
   ],
   "source": [
    "n = 0\n",
    "while n < 10:\n",
    "        print (n)\n",
    "        n +=1\n",
    "else:\n",
    "    print ('loop is done')"
   ]
  },
  {
   "cell_type": "code",
   "execution_count": null,
   "id": "864e78ba-6dfe-403a-b23d-3862929da171",
   "metadata": {},
   "outputs": [],
   "source": []
  }
 ],
 "metadata": {
  "kernelspec": {
   "display_name": "Python 3 (ipykernel)",
   "language": "python",
   "name": "python3"
  },
  "language_info": {
   "codemirror_mode": {
    "name": "ipython",
    "version": 3
   },
   "file_extension": ".py",
   "mimetype": "text/x-python",
   "name": "python",
   "nbconvert_exporter": "python",
   "pygments_lexer": "ipython3",
   "version": "3.10.4"
  },
  "widgets": {
   "application/vnd.jupyter.widget-state+json": {
    "state": {},
    "version_major": 2,
    "version_minor": 0
   }
  }
 },
 "nbformat": 4,
 "nbformat_minor": 5
}
