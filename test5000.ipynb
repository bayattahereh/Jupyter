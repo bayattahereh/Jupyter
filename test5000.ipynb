{
 "cells": [
  {
   "cell_type": "code",
   "execution_count": null,
   "id": "51079fc5-c321-4bc7-b437-2aba6f6740eb",
   "metadata": {},
   "outputs": [],
   "source": [
    "a=t"
   ]
  },
  {
   "cell_type": "code",
   "execution_count": 1,
   "id": "d16ae55b-7f0c-4ad8-a4f1-af90e66fb39a",
   "metadata": {},
   "outputs": [],
   "source": [
    "b=23566"
   ]
  },
  {
   "cell_type": "code",
   "execution_count": null,
   "id": "25a3716c-63c3-47bc-841a-568b99b80f18",
   "metadata": {},
   "outputs": [],
   "source": []
  }
 ],
 "metadata": {
  "kernelspec": {
   "display_name": "Python 3 (ipykernel)",
   "language": "python",
   "name": "python3"
  },
  "language_info": {
   "codemirror_mode": {
    "name": "ipython",
    "version": 3
   },
   "file_extension": ".py",
   "mimetype": "text/x-python",
   "name": "python",
   "nbconvert_exporter": "python",
   "pygments_lexer": "ipython3",
   "version": "3.10.4"
  },
  "widgets": {
   "application/vnd.jupyter.widget-state+json": {
    "state": {},
    "version_major": 2,
    "version_minor": 0
   }
  }
 },
 "nbformat": 4,
 "nbformat_minor": 5
}
