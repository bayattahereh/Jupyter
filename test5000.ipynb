{
 "cells": [
  {
   "cell_type": "code",
   "execution_count": 6,
   "id": "51079fc5-c321-4bc7-b437-2aba6f6740eb",
   "metadata": {},
   "outputs": [],
   "source": [
    "from array import array"
   ]
  },
  {
   "cell_type": "code",
   "execution_count": 8,
   "id": "d16ae55b-7f0c-4ad8-a4f1-af90e66fb39a",
   "metadata": {},
   "outputs": [],
   "source": [
    "a= array('i',[1,2,3,4,5,6,7,8])"
   ]
  },
  {
   "cell_type": "code",
   "execution_count": 4,
   "id": "25a3716c-63c3-47bc-841a-568b99b80f18",
   "metadata": {},
   "outputs": [
    {
     "name": "stdout",
     "output_type": "stream",
     "text": [
      "86.5 ns ± 7.16 ns per loop (mean ± std. dev. of 7 runs, 10,000,000 loops each)\n"
     ]
    }
   ],
   "source": [
    "%timeit a[0]"
   ]
  },
  {
   "cell_type": "code",
   "execution_count": 9,
   "id": "61f090dc-77a5-418d-9742-bb75be5c6529",
   "metadata": {},
   "outputs": [
    {
     "name": "stdout",
     "output_type": "stream",
     "text": [
      "75.4 ns ± 3.94 ns per loop (mean ± std. dev. of 7 runs, 10,000,000 loops each)\n"
     ]
    }
   ],
   "source": [
    "%timeit a[7]"
   ]
  },
  {
   "cell_type": "code",
   "execution_count": null,
   "id": "d49861a1-5f4a-4c7d-a032-270a4aec53a6",
   "metadata": {},
   "outputs": [],
   "source": []
  }
 ],
 "metadata": {
  "kernelspec": {
   "display_name": "Python 3 (ipykernel)",
   "language": "python",
   "name": "python3"
  },
  "language_info": {
   "codemirror_mode": {
    "name": "ipython",
    "version": 3
   },
   "file_extension": ".py",
   "mimetype": "text/x-python",
   "name": "python",
   "nbconvert_exporter": "python",
   "pygments_lexer": "ipython3",
   "version": "3.10.4"
  },
  "widgets": {
   "application/vnd.jupyter.widget-state+json": {
    "state": {},
    "version_major": 2,
    "version_minor": 0
   }
  }
 },
 "nbformat": 4,
 "nbformat_minor": 5
}
