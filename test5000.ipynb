{
 "cells": [
  {
   "cell_type": "code",
   "execution_count": 6,
   "id": "51079fc5-c321-4bc7-b437-2aba6f6740eb",
   "metadata": {},
   "outputs": [],
   "source": [
    "from array import array"
   ]
  },
  {
   "cell_type": "code",
   "execution_count": 12,
   "id": "d16ae55b-7f0c-4ad8-a4f1-af90e66fb39a",
   "metadata": {},
   "outputs": [],
   "source": [
    "a= array('i',[1,2,3,4,5,6,7,8])"
   ]
  },
  {
   "cell_type": "code",
   "execution_count": 10,
   "id": "25a3716c-63c3-47bc-841a-568b99b80f18",
   "metadata": {},
   "outputs": [
    {
     "name": "stdout",
     "output_type": "stream",
     "text": [
      "84.3 ns ± 10.5 ns per loop (mean ± std. dev. of 7 runs, 10,000,000 loops each)\n"
     ]
    }
   ],
   "source": [
    "%timeit a[0]# Access"
   ]
  },
  {
   "cell_type": "code",
   "execution_count": 11,
   "id": "61f090dc-77a5-418d-9742-bb75be5c6529",
   "metadata": {},
   "outputs": [
    {
     "name": "stdout",
     "output_type": "stream",
     "text": [
      "74 ns ± 5.96 ns per loop (mean ± std. dev. of 7 runs, 10,000,000 loops each)\n"
     ]
    }
   ],
   "source": [
    "%timeit a[7]"
   ]
  },
  {
   "cell_type": "code",
   "execution_count": 1,
   "id": "d49861a1-5f4a-4c7d-a032-270a4aec53a6",
   "metadata": {},
   "outputs": [],
   "source": [
    "l= [1,2,3,'a', 1.2]"
   ]
  },
  {
   "cell_type": "code",
   "execution_count": 2,
   "id": "51a64077-dd87-4774-b094-c548c85bdfb2",
   "metadata": {},
   "outputs": [
    {
     "name": "stdout",
     "output_type": "stream",
     "text": [
      "73.6 ns ± 5.46 ns per loop (mean ± std. dev. of 7 runs, 10,000,000 loops each)\n"
     ]
    }
   ],
   "source": [
    "%timeit l[0]"
   ]
  },
  {
   "cell_type": "code",
   "execution_count": 4,
   "id": "bc5f13b8-b78e-49fb-912b-8e3f5ce0223a",
   "metadata": {},
   "outputs": [
    {
     "name": "stdout",
     "output_type": "stream",
     "text": [
      "75 ns ± 7.92 ns per loop (mean ± std. dev. of 7 runs, 10,000,000 loops each)\n"
     ]
    }
   ],
   "source": [
    "%timeit l[4]"
   ]
  },
  {
   "cell_type": "code",
   "execution_count": 5,
   "id": "31787ea6-72c0-4e04-9a28-bf880405bc5e",
   "metadata": {},
   "outputs": [],
   "source": [
    "l= list (range (1000))  "
   ]
  },
  {
   "cell_type": "code",
   "execution_count": 6,
   "id": "0ed2dc1a-e2c4-4c56-a8c8-952d7548f121",
   "metadata": {},
   "outputs": [
    {
     "name": "stdout",
     "output_type": "stream",
     "text": [
      "73.7 ns ± 2.67 ns per loop (mean ± std. dev. of 7 runs, 10,000,000 loops each)\n"
     ]
    }
   ],
   "source": [
    "%timeit l[0]"
   ]
  },
  {
   "cell_type": "code",
   "execution_count": 8,
   "id": "92f3a1df-916c-40b3-bc0d-085050b3c5c2",
   "metadata": {},
   "outputs": [
    {
     "name": "stdout",
     "output_type": "stream",
     "text": [
      "77.9 ns ± 4.62 ns per loop (mean ± std. dev. of 7 runs, 10,000,000 loops each)\n"
     ]
    }
   ],
   "source": [
    "%timeit l[999]"
   ]
  },
  {
   "cell_type": "code",
   "execution_count": 9,
   "id": "b31ca047-c012-4ff9-b1d9-1f2d7be1f22f",
   "metadata": {},
   "outputs": [],
   "source": [
    "from array import array"
   ]
  },
  {
   "cell_type": "code",
   "execution_count": 16,
   "id": "e8dfbb37-4d35-416d-80b6-ddc2e47c9723",
   "metadata": {},
   "outputs": [],
   "source": [
    "a= array ('i', [1,2,3,4,5,6,7,8,9,10])"
   ]
  },
  {
   "cell_type": "code",
   "execution_count": 17,
   "id": "eecd4a4f-36b4-4970-a5cd-68e4ac3983cc",
   "metadata": {},
   "outputs": [],
   "source": [
    "import sys"
   ]
  },
  {
   "cell_type": "code",
   "execution_count": 18,
   "id": "543143b8-c876-4052-b05f-84023158b228",
   "metadata": {},
   "outputs": [
    {
     "data": {
      "text/plain": [
       "28"
      ]
     },
     "execution_count": 18,
     "metadata": {},
     "output_type": "execute_result"
    }
   ],
   "source": [
    "sys.getsizeof (a[1])"
   ]
  },
  {
   "cell_type": "code",
   "execution_count": 20,
   "id": "60be060c-07fc-4f54-877b-b4495cf63430",
   "metadata": {},
   "outputs": [
    {
     "data": {
      "text/plain": [
       "28"
      ]
     },
     "execution_count": 20,
     "metadata": {},
     "output_type": "execute_result"
    }
   ],
   "source": [
    "sys.getsizeof (a[8])"
   ]
  },
  {
   "cell_type": "code",
   "execution_count": 21,
   "id": "c1c452fa-4ba4-4585-81a1-04adf2c790c3",
   "metadata": {},
   "outputs": [],
   "source": [
    "l= [1,2,3,4,'a']"
   ]
  },
  {
   "cell_type": "code",
   "execution_count": 22,
   "id": "09bfbf88-0884-47bc-9fe0-3bf93d3896bf",
   "metadata": {},
   "outputs": [
    {
     "data": {
      "text/plain": [
       "28"
      ]
     },
     "execution_count": 22,
     "metadata": {},
     "output_type": "execute_result"
    }
   ],
   "source": [
    "sys.getsizeof (l[3])"
   ]
  },
  {
   "cell_type": "code",
   "execution_count": 23,
   "id": "2d89dc47-b011-4ff7-b832-5472333942c3",
   "metadata": {},
   "outputs": [
    {
     "data": {
      "text/plain": [
       "28"
      ]
     },
     "execution_count": 23,
     "metadata": {},
     "output_type": "execute_result"
    }
   ],
   "source": [
    "sys.getsizeof (l[0])"
   ]
  },
  {
   "cell_type": "code",
   "execution_count": 24,
   "id": "4264fdde-2a06-49ed-acbb-38fa5bcf2990",
   "metadata": {},
   "outputs": [],
   "source": [
    "l= [1,2,3,4,'a']"
   ]
  },
  {
   "cell_type": "code",
   "execution_count": 25,
   "id": "d4648f75-e1f9-45de-9226-10630bc636e6",
   "metadata": {},
   "outputs": [],
   "source": [
    "import sys"
   ]
  },
  {
   "cell_type": "code",
   "execution_count": 27,
   "id": "5cd8dfcc-b3bd-4b4e-8bcc-40c9d75306d9",
   "metadata": {},
   "outputs": [
    {
     "data": {
      "text/plain": [
       "28"
      ]
     },
     "execution_count": 27,
     "metadata": {},
     "output_type": "execute_result"
    }
   ],
   "source": [
    "sys.getsizeof (l[3])"
   ]
  },
  {
   "cell_type": "code",
   "execution_count": 28,
   "id": "85b1cc36-290e-4b14-8cff-a1842c17a425",
   "metadata": {},
   "outputs": [
    {
     "data": {
      "text/plain": [
       "28"
      ]
     },
     "execution_count": 28,
     "metadata": {},
     "output_type": "execute_result"
    }
   ],
   "source": [
    "sys.getsizeof (l[0])"
   ]
  },
  {
   "cell_type": "code",
   "execution_count": 33,
   "id": "0ab4d042-297f-4731-af49-dc477fc50d2c",
   "metadata": {},
   "outputs": [],
   "source": [
    "x= [1,233838,3,4]"
   ]
  },
  {
   "cell_type": "code",
   "execution_count": 34,
   "id": "4d705c4f-01fd-4e43-80a7-8473b5225a4f",
   "metadata": {},
   "outputs": [
    {
     "data": {
      "text/plain": [
       "4"
      ]
     },
     "execution_count": 34,
     "metadata": {},
     "output_type": "execute_result"
    }
   ],
   "source": [
    "x.pop()"
   ]
  },
  {
   "cell_type": "code",
   "execution_count": 35,
   "id": "e76f3ed8-33bf-4c5c-94d8-f7fd59eb7b97",
   "metadata": {},
   "outputs": [
    {
     "data": {
      "text/plain": [
       "3"
      ]
     },
     "execution_count": 35,
     "metadata": {},
     "output_type": "execute_result"
    }
   ],
   "source": [
    "x.pop()"
   ]
  },
  {
   "cell_type": "code",
   "execution_count": 36,
   "id": "35782b8a-1779-4237-bba6-981353fcca46",
   "metadata": {},
   "outputs": [
    {
     "data": {
      "text/plain": [
       "233838"
      ]
     },
     "execution_count": 36,
     "metadata": {},
     "output_type": "execute_result"
    }
   ],
   "source": [
    "x.pop()"
   ]
  },
  {
   "cell_type": "code",
   "execution_count": 41,
   "id": "3d60705f-e616-4cba-9d2d-2652e775c9cb",
   "metadata": {},
   "outputs": [
    {
     "data": {
      "text/plain": [
       "64"
      ]
     },
     "execution_count": 41,
     "metadata": {},
     "output_type": "execute_result"
    }
   ],
   "source": [
    "sys.getsizeof ([3])"
   ]
  },
  {
   "cell_type": "code",
   "execution_count": 42,
   "id": "3736a1ed-b20b-4f22-b720-8e0265445819",
   "metadata": {},
   "outputs": [],
   "source": [
    "x=[]"
   ]
  },
  {
   "cell_type": "code",
   "execution_count": 49,
   "id": "979135b8-155b-444b-916e-7d52aab94773",
   "metadata": {},
   "outputs": [
    {
     "data": {
      "text/plain": [
       "64"
      ]
     },
     "execution_count": 49,
     "metadata": {},
     "output_type": "execute_result"
    }
   ],
   "source": [
    "sys.getsizeof ([1,2,3])-56"
   ]
  },
  {
   "cell_type": "code",
   "execution_count": 58,
   "id": "7f6530cb-70f0-4e08-ba88-eb0b443c7fe7",
   "metadata": {},
   "outputs": [
    {
     "name": "stdout",
     "output_type": "stream",
     "text": [
      " 1 4\n",
      " 2 4\n",
      " 3 4\n",
      " 4 4\n",
      " 5 8\n",
      " 6 8\n",
      " 7 8\n",
      " 8 8\n",
      " 9 16\n",
      "10 16\n"
     ]
    }
   ],
   "source": [
    "x= []\n",
    "for i in range (10):\n",
    "    x.append (i)\n",
    "    l_capacity=int ((sys.getsizeof(x)-56) / 8)\n",
    "    length = len(x)\n",
    "    \n",
    "    print (f'{length:2} {l_capacity}')"
   ]
  },
  {
   "cell_type": "code",
   "execution_count": null,
   "id": "5297898b-8832-433f-b149-717bf3506cd2",
   "metadata": {},
   "outputs": [],
   "source": [
    "new = 24"
   ]
  }
 ],
 "metadata": {
  "kernelspec": {
   "display_name": "Python 3 (ipykernel)",
   "language": "python",
   "name": "python3"
  },
  "language_info": {
   "codemirror_mode": {
    "name": "ipython",
    "version": 3
   },
   "file_extension": ".py",
   "mimetype": "text/x-python",
   "name": "python",
   "nbconvert_exporter": "python",
   "pygments_lexer": "ipython3",
   "version": "3.10.4"
  },
  "widgets": {
   "application/vnd.jupyter.widget-state+json": {
    "state": {},
    "version_major": 2,
    "version_minor": 0
   }
  }
 },
 "nbformat": 4,
 "nbformat_minor": 5
}
