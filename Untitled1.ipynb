{
 "cells": [
  {
   "cell_type": "code",
   "execution_count": 3,
   "id": "da20d957-a2c0-4133-afaf-858f246fe94d",
   "metadata": {},
   "outputs": [],
   "source": [
    "d= {\n",
    "    'ali':20,\n",
    "    'hassan' :19.75,\n",
    "    'hossein': 10,\n",
    "}"
   ]
  },
  {
   "cell_type": "code",
   "execution_count": 5,
   "id": "3c279da4-11c0-4d3d-a735-b8a5b35f82b4",
   "metadata": {},
   "outputs": [],
   "source": [
    "d= dict ([\n",
    "    ('ali',14),\n",
    "    ('hassan', 20),\n",
    "    ('hossein', 5),\n",
    "     \n",
    "     ])"
   ]
  },
  {
   "cell_type": "code",
   "execution_count": 6,
   "id": "9025a81e-62e3-418a-85eb-81ccf336aff5",
   "metadata": {},
   "outputs": [
    {
     "data": {
      "text/plain": [
       "14"
      ]
     },
     "execution_count": 6,
     "metadata": {},
     "output_type": "execute_result"
    }
   ],
   "source": [
    "d ['ali']"
   ]
  },
  {
   "cell_type": "code",
   "execution_count": 7,
   "id": "a4a8401e-b849-4577-afdc-5b8f66cc31f2",
   "metadata": {},
   "outputs": [],
   "source": [
    "d['ali']=15"
   ]
  },
  {
   "cell_type": "code",
   "execution_count": 8,
   "id": "986a9f5f-6467-4e02-94af-2ae1ff838264",
   "metadata": {},
   "outputs": [
    {
     "data": {
      "text/plain": [
       "15"
      ]
     },
     "execution_count": 8,
     "metadata": {},
     "output_type": "execute_result"
    }
   ],
   "source": [
    "d['ali']"
   ]
  },
  {
   "cell_type": "code",
   "execution_count": 9,
   "id": "f3d0401d-86c0-40f7-b653-b4a9e4f35d12",
   "metadata": {},
   "outputs": [],
   "source": [
    "del d['ali']"
   ]
  },
  {
   "cell_type": "code",
   "execution_count": 10,
   "id": "4613db89-f3cb-491e-a379-bf6c0f9840ae",
   "metadata": {},
   "outputs": [
    {
     "data": {
      "text/plain": [
       "{'hassan': 20, 'hossein': 5}"
      ]
     },
     "execution_count": 10,
     "metadata": {},
     "output_type": "execute_result"
    }
   ],
   "source": [
    "d"
   ]
  },
  {
   "cell_type": "code",
   "execution_count": 11,
   "id": "4fd82821-6f58-4413-9cdd-4a92b892baf4",
   "metadata": {},
   "outputs": [
    {
     "ename": "NameError",
     "evalue": "name 'a' is not defined",
     "output_type": "error",
     "traceback": [
      "\u001b[0;31m---------------------------------------------------------------------------\u001b[0m",
      "\u001b[0;31mNameError\u001b[0m                                 Traceback (most recent call last)",
      "Cell \u001b[0;32mIn [11], line 1\u001b[0m\n\u001b[0;32m----> 1\u001b[0m \u001b[43ma\u001b[49m[\u001b[38;5;124m'\u001b[39m\u001b[38;5;124mali\u001b[39m\u001b[38;5;124m'\u001b[39m]\u001b[38;5;241m=\u001b[39m\u001b[38;5;241m16\u001b[39m\n",
      "\u001b[0;31mNameError\u001b[0m: name 'a' is not defined"
     ]
    }
   ],
   "source": [
    "a['ali']=16"
   ]
  },
  {
   "cell_type": "code",
   "execution_count": 12,
   "id": "8714aac1-a285-4aa3-934c-98b4b50b718d",
   "metadata": {},
   "outputs": [],
   "source": [
    "d['ali']=17"
   ]
  },
  {
   "cell_type": "code",
   "execution_count": 13,
   "id": "95ed28fa-b9c1-4430-a3c5-f14e58abe184",
   "metadata": {},
   "outputs": [
    {
     "data": {
      "text/plain": [
       "{'hassan': 20, 'hossein': 5, 'ali': 17}"
      ]
     },
     "execution_count": 13,
     "metadata": {},
     "output_type": "execute_result"
    }
   ],
   "source": [
    "d"
   ]
  },
  {
   "cell_type": "code",
   "execution_count": 14,
   "id": "7eff88a1-063c-4bd6-a0e6-939c497f53fc",
   "metadata": {},
   "outputs": [],
   "source": [
    "ed={}"
   ]
  },
  {
   "cell_type": "code",
   "execution_count": 17,
   "id": "b9aa028f-e814-4c55-98f3-a65009aedee2",
   "metadata": {},
   "outputs": [],
   "source": [
    "ed['name']=20"
   ]
  },
  {
   "cell_type": "code",
   "execution_count": 18,
   "id": "5d4cbc27-3b23-4ce3-9e41-67d0400bf5ba",
   "metadata": {},
   "outputs": [
    {
     "data": {
      "text/plain": [
       "{'name': 20}"
      ]
     },
     "execution_count": 18,
     "metadata": {},
     "output_type": "execute_result"
    }
   ],
   "source": []
  },
  {
   "cell_type": "code",
   "execution_count": 21,
   "id": "319efdaf-9707-4765-b458-a213335b0d5c",
   "metadata": {},
   "outputs": [],
   "source": [
    "d= {\n",
    "    'ali' : (1,2,3,) ,\n",
    "}"
   ]
  },
  {
   "cell_type": "code",
   "execution_count": 24,
   "id": "daefb956-8324-4860-992d-ebb6ac80392e",
   "metadata": {},
   "outputs": [
    {
     "data": {
      "text/plain": [
       "529344067295497451"
      ]
     },
     "execution_count": 24,
     "metadata": {},
     "output_type": "execute_result"
    }
   ],
   "source": [
    "hash((1,2,3,),)"
   ]
  },
  {
   "cell_type": "code",
   "execution_count": null,
   "id": "387820cb-314b-4772-ad18-4097462597ac",
   "metadata": {},
   "outputs": [],
   "source": [
    "s= "
   ]
  },
  {
   "cell_type": "code",
   "execution_count": null,
   "id": "3dbdbf7a-131a-4da3-b6cd-80585363ca81",
   "metadata": {},
   "outputs": [],
   "source": []
  }
 ],
 "metadata": {
  "kernelspec": {
   "display_name": "Python 3 (ipykernel)",
   "language": "python",
   "name": "python3"
  },
  "language_info": {
   "codemirror_mode": {
    "name": "ipython",
    "version": 3
   },
   "file_extension": ".py",
   "mimetype": "text/x-python",
   "name": "python",
   "nbconvert_exporter": "python",
   "pygments_lexer": "ipython3",
   "version": "3.10.4"
  },
  "widgets": {
   "application/vnd.jupyter.widget-state+json": {
    "state": {},
    "version_major": 2,
    "version_minor": 0
   }
  }
 },
 "nbformat": 4,
 "nbformat_minor": 5
}
