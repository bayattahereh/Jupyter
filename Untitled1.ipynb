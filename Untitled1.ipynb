{
 "cells": [
  {
   "cell_type": "code",
   "execution_count": 3,
   "id": "da20d957-a2c0-4133-afaf-858f246fe94d",
   "metadata": {},
   "outputs": [],
   "source": [
    "d= {\n",
    "    'ali':20,\n",
    "    'hassan' :19.75,\n",
    "    'hossein': 10,\n",
    "}"
   ]
  },
  {
   "cell_type": "code",
   "execution_count": 5,
   "id": "3c279da4-11c0-4d3d-a735-b8a5b35f82b4",
   "metadata": {},
   "outputs": [],
   "source": [
    "d= dict ([\n",
    "    ('ali',14),\n",
    "    ('hassan', 20),\n",
    "    ('hossein', 5),\n",
    "     \n",
    "     ])"
   ]
  },
  {
   "cell_type": "code",
   "execution_count": 6,
   "id": "9025a81e-62e3-418a-85eb-81ccf336aff5",
   "metadata": {},
   "outputs": [
    {
     "data": {
      "text/plain": [
       "14"
      ]
     },
     "execution_count": 6,
     "metadata": {},
     "output_type": "execute_result"
    }
   ],
   "source": [
    "d ['ali']"
   ]
  },
  {
   "cell_type": "code",
   "execution_count": 7,
   "id": "a4a8401e-b849-4577-afdc-5b8f66cc31f2",
   "metadata": {},
   "outputs": [],
   "source": [
    "d['ali']=15"
   ]
  },
  {
   "cell_type": "code",
   "execution_count": 8,
   "id": "986a9f5f-6467-4e02-94af-2ae1ff838264",
   "metadata": {},
   "outputs": [
    {
     "data": {
      "text/plain": [
       "15"
      ]
     },
     "execution_count": 8,
     "metadata": {},
     "output_type": "execute_result"
    }
   ],
   "source": [
    "d['ali']"
   ]
  },
  {
   "cell_type": "code",
   "execution_count": 9,
   "id": "f3d0401d-86c0-40f7-b653-b4a9e4f35d12",
   "metadata": {},
   "outputs": [],
   "source": [
    "del d['ali']"
   ]
  },
  {
   "cell_type": "code",
   "execution_count": 10,
   "id": "4613db89-f3cb-491e-a379-bf6c0f9840ae",
   "metadata": {},
   "outputs": [
    {
     "data": {
      "text/plain": [
       "{'hassan': 20, 'hossein': 5}"
      ]
     },
     "execution_count": 10,
     "metadata": {},
     "output_type": "execute_result"
    }
   ],
   "source": [
    "d"
   ]
  },
  {
   "cell_type": "code",
   "execution_count": 11,
   "id": "4fd82821-6f58-4413-9cdd-4a92b892baf4",
   "metadata": {},
   "outputs": [
    {
     "ename": "NameError",
     "evalue": "name 'a' is not defined",
     "output_type": "error",
     "traceback": [
      "\u001b[0;31m---------------------------------------------------------------------------\u001b[0m",
      "\u001b[0;31mNameError\u001b[0m                                 Traceback (most recent call last)",
      "Cell \u001b[0;32mIn [11], line 1\u001b[0m\n\u001b[0;32m----> 1\u001b[0m \u001b[43ma\u001b[49m[\u001b[38;5;124m'\u001b[39m\u001b[38;5;124mali\u001b[39m\u001b[38;5;124m'\u001b[39m]\u001b[38;5;241m=\u001b[39m\u001b[38;5;241m16\u001b[39m\n",
      "\u001b[0;31mNameError\u001b[0m: name 'a' is not defined"
     ]
    }
   ],
   "source": [
    "a['ali']=16"
   ]
  },
  {
   "cell_type": "code",
   "execution_count": 12,
   "id": "8714aac1-a285-4aa3-934c-98b4b50b718d",
   "metadata": {},
   "outputs": [],
   "source": [
    "d['ali']=17"
   ]
  },
  {
   "cell_type": "code",
   "execution_count": 13,
   "id": "95ed28fa-b9c1-4430-a3c5-f14e58abe184",
   "metadata": {},
   "outputs": [
    {
     "data": {
      "text/plain": [
       "{'hassan': 20, 'hossein': 5, 'ali': 17}"
      ]
     },
     "execution_count": 13,
     "metadata": {},
     "output_type": "execute_result"
    }
   ],
   "source": [
    "d"
   ]
  },
  {
   "cell_type": "code",
   "execution_count": 14,
   "id": "7eff88a1-063c-4bd6-a0e6-939c497f53fc",
   "metadata": {},
   "outputs": [],
   "source": [
    "ed={}"
   ]
  },
  {
   "cell_type": "code",
   "execution_count": 17,
   "id": "b9aa028f-e814-4c55-98f3-a65009aedee2",
   "metadata": {},
   "outputs": [],
   "source": [
    "ed['name']=20"
   ]
  },
  {
   "cell_type": "code",
   "execution_count": 18,
   "id": "5d4cbc27-3b23-4ce3-9e41-67d0400bf5ba",
   "metadata": {},
   "outputs": [
    {
     "data": {
      "text/plain": [
       "{'name': 20}"
      ]
     },
     "execution_count": 18,
     "metadata": {},
     "output_type": "execute_result"
    }
   ],
   "source": []
  },
  {
   "cell_type": "code",
   "execution_count": 21,
   "id": "319efdaf-9707-4765-b458-a213335b0d5c",
   "metadata": {},
   "outputs": [],
   "source": [
    "d= {\n",
    "    'ali' : (1,2,3,) ,\n",
    "}"
   ]
  },
  {
   "cell_type": "code",
   "execution_count": 24,
   "id": "daefb956-8324-4860-992d-ebb6ac80392e",
   "metadata": {},
   "outputs": [
    {
     "data": {
      "text/plain": [
       "529344067295497451"
      ]
     },
     "execution_count": 24,
     "metadata": {},
     "output_type": "execute_result"
    }
   ],
   "source": [
    "hash((1,2,3,),)"
   ]
  },
  {
   "cell_type": "code",
   "execution_count": 26,
   "id": "387820cb-314b-4772-ad18-4097462597ac",
   "metadata": {},
   "outputs": [],
   "source": [
    "s= {1,2,34,4,5,6,6,6,6,6,6}"
   ]
  },
  {
   "cell_type": "code",
   "execution_count": 30,
   "id": "3dbdbf7a-131a-4da3-b6cd-80585363ca81",
   "metadata": {},
   "outputs": [
    {
     "data": {
      "text/plain": [
       "set"
      ]
     },
     "execution_count": 30,
     "metadata": {},
     "output_type": "execute_result"
    }
   ],
   "source": [
    "type (s)"
   ]
  },
  {
   "cell_type": "code",
   "execution_count": 31,
   "id": "6c52010b-59ab-4c18-b16d-6cf770bd8b63",
   "metadata": {},
   "outputs": [
    {
     "data": {
      "text/plain": [
       "{1, 2, 4, 5, 6, 34}"
      ]
     },
     "execution_count": 31,
     "metadata": {},
     "output_type": "execute_result"
    }
   ],
   "source": [
    "s"
   ]
  },
  {
   "cell_type": "code",
   "execution_count": 33,
   "id": "bf965fbd-d07c-46d4-904d-50d8357ca48d",
   "metadata": {},
   "outputs": [
    {
     "name": "stdout",
     "output_type": "stream",
     "text": [
      "1\n",
      "2\n",
      "34\n",
      "4\n",
      "5\n",
      "6\n"
     ]
    }
   ],
   "source": [
    "for item in s:\n",
    "    print (item)"
   ]
  },
  {
   "cell_type": "code",
   "execution_count": 35,
   "id": "93c4c99f-b5a6-43f4-8071-3df80b95f2ae",
   "metadata": {},
   "outputs": [],
   "source": [
    "s.add(5)"
   ]
  },
  {
   "cell_type": "code",
   "execution_count": 36,
   "id": "7e49370c-fb63-466f-a0b0-5642765c703e",
   "metadata": {},
   "outputs": [
    {
     "data": {
      "text/plain": [
       "{1, 2, 4, 5, 6, 34}"
      ]
     },
     "execution_count": 36,
     "metadata": {},
     "output_type": "execute_result"
    }
   ],
   "source": [
    "s"
   ]
  },
  {
   "cell_type": "code",
   "execution_count": 38,
   "id": "a269c79c-6538-43a0-b3ea-7ebe7333fa85",
   "metadata": {},
   "outputs": [],
   "source": [
    "s.update ([1,2,3,4,4,5,6,6,7,88,8,989,])"
   ]
  },
  {
   "cell_type": "code",
   "execution_count": 39,
   "id": "8b7a1c71-7b80-440b-9f6b-ccbb4ae2dc93",
   "metadata": {},
   "outputs": [
    {
     "data": {
      "text/plain": [
       "{1, 2, 3, 4, 5, 6, 7, 8, 34, 88, 989}"
      ]
     },
     "execution_count": 39,
     "metadata": {},
     "output_type": "execute_result"
    }
   ],
   "source": [
    "s"
   ]
  },
  {
   "cell_type": "code",
   "execution_count": 40,
   "id": "2c671831-b7fa-4947-9151-5a9df6335d42",
   "metadata": {},
   "outputs": [
    {
     "data": {
      "text/plain": [
       "True"
      ]
     },
     "execution_count": 40,
     "metadata": {},
     "output_type": "execute_result"
    }
   ],
   "source": [
    "1 in s"
   ]
  },
  {
   "cell_type": "code",
   "execution_count": 41,
   "id": "6aa3c381-d710-44f6-963d-be7956c04524",
   "metadata": {},
   "outputs": [
    {
     "data": {
      "text/plain": [
       "False"
      ]
     },
     "execution_count": 41,
     "metadata": {},
     "output_type": "execute_result"
    }
   ],
   "source": [
    "1000 in s"
   ]
  },
  {
   "cell_type": "code",
   "execution_count": 42,
   "id": "540ebd9f-934f-4f96-9d59-9b85a4f799e6",
   "metadata": {},
   "outputs": [
    {
     "data": {
      "text/plain": [
       "False"
      ]
     },
     "execution_count": 42,
     "metadata": {},
     "output_type": "execute_result"
    }
   ],
   "source": [
    "2 not in s"
   ]
  },
  {
   "cell_type": "code",
   "execution_count": 50,
   "id": "7a3b9520-e393-4443-9b0e-9b1a460e00d9",
   "metadata": {},
   "outputs": [],
   "source": [
    "x= list (range(10000))"
   ]
  },
  {
   "cell_type": "code",
   "execution_count": 51,
   "id": "89baa4cc-d51d-494c-891a-1acfd605c326",
   "metadata": {},
   "outputs": [],
   "source": [
    "s= set (range(10000))"
   ]
  },
  {
   "cell_type": "code",
   "execution_count": 52,
   "id": "e18901f9-d703-4b8a-9a6f-a87e2a9a3776",
   "metadata": {},
   "outputs": [
    {
     "name": "stdout",
     "output_type": "stream",
     "text": [
      "104 ns ± 10.6 ns per loop (mean ± std. dev. of 7 runs, 10,000,000 loops each)\n"
     ]
    }
   ],
   "source": [
    "%timeit 4000 in s"
   ]
  },
  {
   "cell_type": "code",
   "execution_count": 53,
   "id": "a2a25065-a77e-43db-9e31-59283fb828c2",
   "metadata": {},
   "outputs": [
    {
     "name": "stdout",
     "output_type": "stream",
     "text": [
      "40.6 µs ± 3.05 µs per loop (mean ± std. dev. of 7 runs, 10,000 loops each)\n"
     ]
    }
   ],
   "source": [
    "%timeit 4000 in x"
   ]
  },
  {
   "cell_type": "code",
   "execution_count": 56,
   "id": "f9769275-353b-4b41-9058-8dcc728c5bb0",
   "metadata": {},
   "outputs": [],
   "source": [
    "s =set([1,2,3])"
   ]
  },
  {
   "cell_type": "code",
   "execution_count": 57,
   "id": "a8ac9073-eb45-4a44-a29b-38ea9f30402d",
   "metadata": {},
   "outputs": [],
   "source": [
    "s.add(4)"
   ]
  },
  {
   "cell_type": "code",
   "execution_count": 58,
   "id": "416e998a-12e1-4f9c-ac3d-03b473fd116a",
   "metadata": {},
   "outputs": [
    {
     "data": {
      "text/plain": [
       "{1, 2, 3, 4}"
      ]
     },
     "execution_count": 58,
     "metadata": {},
     "output_type": "execute_result"
    }
   ],
   "source": [
    "s"
   ]
  },
  {
   "cell_type": "code",
   "execution_count": 60,
   "id": "40276ea5-4189-4184-978a-3ed4afe8321c",
   "metadata": {},
   "outputs": [],
   "source": [
    "fs= frozenset([1,2,3,4,])"
   ]
  },
  {
   "cell_type": "code",
   "execution_count": 62,
   "id": "6bcb3a15-e1f4-4d55-8061-5173fdde9cfe",
   "metadata": {},
   "outputs": [
    {
     "ename": "AttributeError",
     "evalue": "'frozenset' object has no attribute 'add'",
     "output_type": "error",
     "traceback": [
      "\u001b[0;31m---------------------------------------------------------------------------\u001b[0m",
      "\u001b[0;31mAttributeError\u001b[0m                            Traceback (most recent call last)",
      "Cell \u001b[0;32mIn [62], line 1\u001b[0m\n\u001b[0;32m----> 1\u001b[0m \u001b[43mfs\u001b[49m\u001b[38;5;241;43m.\u001b[39;49m\u001b[43madd\u001b[49m(\u001b[38;5;241m5\u001b[39m)\n",
      "\u001b[0;31mAttributeError\u001b[0m: 'frozenset' object has no attribute 'add'"
     ]
    }
   ],
   "source": [
    "fs.add(5)"
   ]
  },
  {
   "cell_type": "code",
   "execution_count": 64,
   "id": "e33eec2c-4d51-4c89-bfed-dbe97ff00438",
   "metadata": {},
   "outputs": [
    {
     "data": {
      "text/plain": [
       "5575258175646371796"
      ]
     },
     "execution_count": 64,
     "metadata": {},
     "output_type": "execute_result"
    }
   ],
   "source": [
    "hash (fs)"
   ]
  },
  {
   "cell_type": "code",
   "execution_count": null,
   "id": "53515500-d5c0-45a6-b795-a4700f3099d0",
   "metadata": {},
   "outputs": [],
   "source": []
  }
 ],
 "metadata": {
  "kernelspec": {
   "display_name": "Python 3 (ipykernel)",
   "language": "python",
   "name": "python3"
  },
  "language_info": {
   "codemirror_mode": {
    "name": "ipython",
    "version": 3
   },
   "file_extension": ".py",
   "mimetype": "text/x-python",
   "name": "python",
   "nbconvert_exporter": "python",
   "pygments_lexer": "ipython3",
   "version": "3.10.4"
  },
  "widgets": {
   "application/vnd.jupyter.widget-state+json": {
    "state": {},
    "version_major": 2,
    "version_minor": 0
   }
  }
 },
 "nbformat": 4,
 "nbformat_minor": 5
}
