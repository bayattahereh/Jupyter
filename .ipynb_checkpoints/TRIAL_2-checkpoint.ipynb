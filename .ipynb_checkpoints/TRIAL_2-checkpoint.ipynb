{
 "cells": [
  {
   "cell_type": "code",
   "execution_count": 1,
   "id": "d615f79b-2b1b-464d-8048-a0844de786af",
   "metadata": {},
   "outputs": [],
   "source": [
    "a=1\n"
   ]
  },
  {
   "cell_type": "code",
   "execution_count": 2,
   "id": "0177b193-11dd-4314-b004-9d93bb2f8f66",
   "metadata": {},
   "outputs": [],
   "source": [
    "b=2"
   ]
  },
  {
   "cell_type": "code",
   "execution_count": 3,
   "id": "87b7fe34-8107-4f76-a847-e06579bae1b5",
   "metadata": {},
   "outputs": [],
   "source": [
    "c=a+b"
   ]
  },
  {
   "cell_type": "raw",
   "id": "49ab49a2-ff18-4e36-9849-91641f5fc07c",
   "metadata": {},
   "source": [
    "print(c)\n"
   ]
  },
  {
   "cell_type": "code",
   "execution_count": 4,
   "id": "0ab37f0d-47ef-4b21-9fbf-cf5e5d93ee69",
   "metadata": {},
   "outputs": [
    {
     "name": "stdout",
     "output_type": "stream",
     "text": [
      "3\n"
     ]
    }
   ],
   "source": [
    "print (c)"
   ]
  },
  {
   "cell_type": "code",
   "execution_count": 1,
   "id": "6091754b-bbd4-46bc-b442-fc0f07e9ea60",
   "metadata": {},
   "outputs": [],
   "source": [
    "a=22"
   ]
  },
  {
   "cell_type": "code",
   "execution_count": 2,
   "id": "61ceec84-c530-4d61-a865-ee4920bfb33b",
   "metadata": {},
   "outputs": [],
   "source": [
    "b=3949944"
   ]
  },
  {
   "cell_type": "code",
   "execution_count": null,
   "id": "f7725f15-bfd2-4448-983f-4c6d1801a65e",
   "metadata": {},
   "outputs": [],
   "source": []
  }
 ],
 "metadata": {
  "kernelspec": {
   "display_name": "Python 3 (ipykernel)",
   "language": "python",
   "name": "python3"
  },
  "language_info": {
   "codemirror_mode": {
    "name": "ipython",
    "version": 3
   },
   "file_extension": ".py",
   "mimetype": "text/x-python",
   "name": "python",
   "nbconvert_exporter": "python",
   "pygments_lexer": "ipython3",
   "version": "3.10.4"
  },
  "toc-autonumbering": true,
  "widgets": {
   "application/vnd.jupyter.widget-state+json": {
    "state": {},
    "version_major": 2,
    "version_minor": 0
   }
  }
 },
 "nbformat": 4,
 "nbformat_minor": 5
}
