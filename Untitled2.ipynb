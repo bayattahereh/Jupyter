{
 "cells": [
  {
   "cell_type": "code",
   "execution_count": 5,
   "id": "6f200bcd-349b-4edf-bba9-f402648602d3",
   "metadata": {},
   "outputs": [],
   "source": [
    "m = 245"
   ]
  },
  {
   "cell_type": "code",
   "execution_count": 6,
   "id": "4f858847-961d-4500-be6e-c6a33b2c2943",
   "metadata": {},
   "outputs": [],
   "source": [
    "n = 245"
   ]
  },
  {
   "cell_type": "code",
   "execution_count": 7,
   "id": "3ef15526-d420-4bf1-bf95-375d4f26a223",
   "metadata": {},
   "outputs": [],
   "source": [
    "x = 268"
   ]
  },
  {
   "cell_type": "code",
   "execution_count": 8,
   "id": "bd5b6235-0fea-4b3e-9224-4a4fceb48ce7",
   "metadata": {},
   "outputs": [],
   "source": [
    "y = 268"
   ]
  },
  {
   "cell_type": "code",
   "execution_count": 9,
   "id": "30b8642e-ff0a-4185-bf01-2a38bf61add4",
   "metadata": {},
   "outputs": [],
   "source": [
    "z = y"
   ]
  },
  {
   "cell_type": "code",
   "execution_count": 10,
   "id": "3ade01c9-3299-4495-8ab6-170faa7b22c7",
   "metadata": {},
   "outputs": [
    {
     "data": {
      "text/plain": [
       "140413348093808"
      ]
     },
     "execution_count": 10,
     "metadata": {},
     "output_type": "execute_result"
    }
   ],
   "source": [
    "id (m)"
   ]
  },
  {
   "cell_type": "code",
   "execution_count": 11,
   "id": "332104b0-b653-4839-bdeb-43cf62688275",
   "metadata": {},
   "outputs": [
    {
     "data": {
      "text/plain": [
       "140413348093808"
      ]
     },
     "execution_count": 11,
     "metadata": {},
     "output_type": "execute_result"
    }
   ],
   "source": [
    "id (n)"
   ]
  },
  {
   "cell_type": "code",
   "execution_count": 12,
   "id": "4a4072fc-ef88-44d9-bbc2-618843c54b0a",
   "metadata": {},
   "outputs": [
    {
     "data": {
      "text/plain": [
       "140413294255376"
      ]
     },
     "execution_count": 12,
     "metadata": {},
     "output_type": "execute_result"
    }
   ],
   "source": [
    "id(x)"
   ]
  },
  {
   "cell_type": "code",
   "execution_count": 13,
   "id": "2c110117-8b9d-482b-8c17-61beebe1c31b",
   "metadata": {},
   "outputs": [
    {
     "data": {
      "text/plain": [
       "140413294250960"
      ]
     },
     "execution_count": 13,
     "metadata": {},
     "output_type": "execute_result"
    }
   ],
   "source": [
    "id(y)"
   ]
  },
  {
   "cell_type": "code",
   "execution_count": 14,
   "id": "30041b97-e477-4d2b-89ee-cb79554ac7ce",
   "metadata": {},
   "outputs": [
    {
     "data": {
      "text/plain": [
       "140413294250960"
      ]
     },
     "execution_count": 14,
     "metadata": {},
     "output_type": "execute_result"
    }
   ],
   "source": [
    "id(z)"
   ]
  },
  {
   "cell_type": "code",
   "execution_count": 15,
   "id": "de02d19c-dec1-4f31-8769-5420448a1070",
   "metadata": {},
   "outputs": [
    {
     "data": {
      "text/plain": [
       "True"
      ]
     },
     "execution_count": 15,
     "metadata": {},
     "output_type": "execute_result"
    }
   ],
   "source": [
    "id (m) == id (n)"
   ]
  },
  {
   "cell_type": "code",
   "execution_count": 16,
   "id": "08e3bbe1-7e56-4c36-8c63-63e49cbf5950",
   "metadata": {},
   "outputs": [
    {
     "data": {
      "text/plain": [
       "False"
      ]
     },
     "execution_count": 16,
     "metadata": {},
     "output_type": "execute_result"
    }
   ],
   "source": [
    "id (x) == id (y)"
   ]
  },
  {
   "cell_type": "code",
   "execution_count": 17,
   "id": "69740774-8bd8-42e1-af6a-c089501ec099",
   "metadata": {},
   "outputs": [
    {
     "data": {
      "text/plain": [
       "True"
      ]
     },
     "execution_count": 17,
     "metadata": {},
     "output_type": "execute_result"
    }
   ],
   "source": [
    "id (y) == id (z)"
   ]
  },
  {
   "cell_type": "code",
   "execution_count": 22,
   "id": "4cb2841c-8df8-4a30-a905-e7e6c3b9e265",
   "metadata": {},
   "outputs": [],
   "source": [
    "var_s , var_i , var_f = 'pytopia' , 2022 , 3.14"
   ]
  },
  {
   "cell_type": "code",
   "execution_count": 23,
   "id": "125cb271-dd47-42a1-b244-8998b8696e0e",
   "metadata": {},
   "outputs": [
    {
     "data": {
      "text/plain": [
       "'pytopia'"
      ]
     },
     "execution_count": 23,
     "metadata": {},
     "output_type": "execute_result"
    }
   ],
   "source": [
    "var_s"
   ]
  },
  {
   "cell_type": "code",
   "execution_count": 25,
   "id": "dea90a88-1df3-4ba9-a97f-678b9bcae62d",
   "metadata": {},
   "outputs": [],
   "source": [
    "i = 30474# this is a commetn . dont take it seriously\n",
    "b = 4989# this is a commetn . dont take it seriously\n",
    "c = 858559# this is a commetn . dont take it seriously"
   ]
  },
  {
   "cell_type": "code",
   "execution_count": 26,
   "id": "3c751566-6e79-4d9c-afdc-e914889b6c28",
   "metadata": {},
   "outputs": [],
   "source": [
    "m = 300"
   ]
  },
  {
   "cell_type": "code",
   "execution_count": 27,
   "id": "387196df-d304-4577-85e2-b93168a7ff5f",
   "metadata": {},
   "outputs": [],
   "source": [
    "n = m"
   ]
  },
  {
   "cell_type": "code",
   "execution_count": 28,
   "id": "82fb1490-cdd9-49bf-bdbf-02aae6240fad",
   "metadata": {},
   "outputs": [
    {
     "data": {
      "text/plain": [
       "True"
      ]
     },
     "execution_count": 28,
     "metadata": {},
     "output_type": "execute_result"
    }
   ],
   "source": [
    "id(m) == id (n)"
   ]
  },
  {
   "cell_type": "code",
   "execution_count": 29,
   "id": "9dc78ad4-7e32-4c8d-b6d3-ac740852b0ed",
   "metadata": {},
   "outputs": [],
   "source": [
    "num_list = [1, 3, 6, 10, 15, 21, 28, 36, 45, 55, 66, 78]"
   ]
  },
  {
   "cell_type": "code",
   "execution_count": 36,
   "id": "2368273b-3c34-4a3f-a583-bec8a800d214",
   "metadata": {},
   "outputs": [
    {
     "data": {
      "text/plain": [
       "(1, 6, 78)"
      ]
     },
     "execution_count": 36,
     "metadata": {},
     "output_type": "execute_result"
    }
   ],
   "source": [
    "num_list [0] , num_list [2] , num_list [-1]"
   ]
  },
  {
   "cell_type": "code",
   "execution_count": 37,
   "id": "f06eac0e-bf48-4d92-8b46-a5a9bff1209e",
   "metadata": {},
   "outputs": [],
   "source": [
    "grades = [12, 19, 14, 15, 17.5, 18, 10.25, 9.75, 19, 14, 12, 11.25, 17, 18, 13, 13, 15, 19, 18.5]"
   ]
  },
  {
   "cell_type": "code",
   "execution_count": 40,
   "id": "d6db8630-b594-4efd-8570-b92adc010011",
   "metadata": {},
   "outputs": [
    {
     "data": {
      "text/plain": [
       "True"
      ]
     },
     "execution_count": 40,
     "metadata": {},
     "output_type": "execute_result"
    }
   ],
   "source": [
    "9.75 in grades "
   ]
  },
  {
   "cell_type": "code",
   "execution_count": 44,
   "id": "9c5001b8-db5f-439e-a090-4e131bc2400c",
   "metadata": {},
   "outputs": [
    {
     "data": {
      "text/plain": [
       "7"
      ]
     },
     "execution_count": 44,
     "metadata": {},
     "output_type": "execute_result"
    }
   ],
   "source": [
    "grades.index ( 9.75 )"
   ]
  },
  {
   "cell_type": "code",
   "execution_count": 46,
   "id": "f374cee2-368d-4c19-89d2-f8052021d606",
   "metadata": {},
   "outputs": [],
   "source": [
    "grades [ 7 ] = 10"
   ]
  },
  {
   "cell_type": "code",
   "execution_count": 47,
   "id": "18b46f44-3e5f-4186-b07f-08af9b332f2d",
   "metadata": {},
   "outputs": [
    {
     "data": {
      "text/plain": [
       "[12,\n",
       " 19,\n",
       " 14,\n",
       " 15,\n",
       " 17.5,\n",
       " 18,\n",
       " 10.25,\n",
       " 10,\n",
       " 19,\n",
       " 14,\n",
       " 12,\n",
       " 11.25,\n",
       " 17,\n",
       " 18,\n",
       " 13,\n",
       " 13,\n",
       " 15,\n",
       " 19,\n",
       " 18.5]"
      ]
     },
     "execution_count": 47,
     "metadata": {},
     "output_type": "execute_result"
    }
   ],
   "source": [
    "grades"
   ]
  },
  {
   "cell_type": "code",
   "execution_count": 48,
   "id": "c0efa28a-2ef6-4efa-abbf-767e42761b38",
   "metadata": {},
   "outputs": [],
   "source": [
    "inp_list = [10, 20, 30, 40]"
   ]
  },
  {
   "cell_type": "code",
   "execution_count": 49,
   "id": "5acb053a-7e05-4abd-b31d-e63e0d3558f1",
   "metadata": {},
   "outputs": [],
   "source": [
    "del inp_list[0:6]"
   ]
  },
  {
   "cell_type": "code",
   "execution_count": 51,
   "id": "c6812c3c-fd17-49bd-8d8f-716c37e0a4be",
   "metadata": {},
   "outputs": [
    {
     "data": {
      "text/plain": [
       "[]"
      ]
     },
     "execution_count": 51,
     "metadata": {},
     "output_type": "execute_result"
    }
   ],
   "source": [
    "inp_list"
   ]
  },
  {
   "cell_type": "code",
   "execution_count": 52,
   "id": "7f48a2a2-bb0a-4c64-a1ca-f15b860da8d9",
   "metadata": {},
   "outputs": [
    {
     "name": "stdout",
     "output_type": "stream",
     "text": [
      "[]\n"
     ]
    }
   ],
   "source": [
    "print(inp_list)"
   ]
  },
  {
   "cell_type": "code",
   "execution_count": 53,
   "id": "7e0f1772-87a0-4607-8686-58b3513533ea",
   "metadata": {},
   "outputs": [
    {
     "ename": "SyntaxError",
     "evalue": "invalid syntax (3696883885.py, line 1)",
     "output_type": "error",
     "traceback": [
      "\u001b[0;36m  Cell \u001b[0;32mIn [53], line 1\u001b[0;36m\u001b[0m\n\u001b[0;31m    a = 300 b = 124 mylist = [300, 124, 100]\u001b[0m\n\u001b[0m            ^\u001b[0m\n\u001b[0;31mSyntaxError\u001b[0m\u001b[0;31m:\u001b[0m invalid syntax\n"
     ]
    }
   ],
   "source": [
    "a = 300 b = 124 \n",
    "mylist = [300, 124, 100]"
   ]
  },
  {
   "cell_type": "code",
   "execution_count": null,
   "id": "6d1a776e-3cc8-4242-b951-901da52e027a",
   "metadata": {
    "jupyter": {
     "source_hidden": true
    },
    "tags": []
   },
   "outputs": [],
   "source": [
    "a = 100\n",
    "b = 1"
   ]
  },
  {
   "cell_type": "code",
   "execution_count": null,
   "id": "e0d2648f-6276-4c26-bb8c-9f2c0e3c0da6",
   "metadata": {},
   "outputs": [],
   "source": [
    "id"
   ]
  },
  {
   "cell_type": "code",
   "execution_count": 54,
   "id": "d8e954f1-8c6d-4c28-8cdb-4b10e1c8c4e7",
   "metadata": {},
   "outputs": [
    {
     "name": "stdout",
     "output_type": "stream",
     "text": [
      "False True True True\n"
     ]
    }
   ],
   "source": [
    "print(bool(0), bool(3.14159), bool(-3), bool(1.0+1j))"
   ]
  },
  {
   "cell_type": "code",
   "execution_count": 55,
   "id": "b2e6edd1-0ff5-42ff-8dcc-820a941a5813",
   "metadata": {
    "tags": []
   },
   "outputs": [
    {
     "ename": "SyntaxError",
     "evalue": "invalid syntax (1662264668.py, line 1)",
     "output_type": "error",
     "traceback": [
      "\u001b[0;36m  Cell \u001b[0;32mIn [55], line 1\u001b[0;36m\u001b[0m\n\u001b[0;31m    - 0 0.0 0+ 0+j\u001b[0m\n\u001b[0m        ^\u001b[0m\n\u001b[0;31mSyntaxError\u001b[0m\u001b[0;31m:\u001b[0m invalid syntax\n"
     ]
    }
   ],
   "source": [
    "- 0 0.0 0+ 0+j\n",
    "- False\n",
    "- \"\" [] {} \n",
    "-None"
   ]
  },
  {
   "cell_type": "code",
   "execution_count": 56,
   "id": "ccdc8aa7-b34e-4677-8c1f-0b185398794e",
   "metadata": {},
   "outputs": [],
   "source": [
    "a = 4\n",
    "b = 11"
   ]
  },
  {
   "cell_type": "code",
   "execution_count": 58,
   "id": "23f00680-ea26-4834-a534-b235b3b54170",
   "metadata": {},
   "outputs": [
    {
     "name": "stdout",
     "output_type": "stream",
     "text": [
      "15 1\n"
     ]
    }
   ],
   "source": [
    "print ((a | b, a >> 2))"
   ]
  },
  {
   "cell_type": "code",
   "execution_count": 59,
   "id": "69cf5631-904b-420f-8465-95b3c40a2fc8",
   "metadata": {},
   "outputs": [],
   "source": [
    "a = 300\n",
    "b = 124 "
   ]
  },
  {
   "cell_type": "code",
   "execution_count": 60,
   "id": "5f8ec11d-a97a-4228-abe5-c0b142a2df10",
   "metadata": {},
   "outputs": [],
   "source": [
    "mylist = [300, 124, 100]"
   ]
  },
  {
   "cell_type": "code",
   "execution_count": 61,
   "id": "3dde732b-18ed-4f3f-88b7-468e66f450d4",
   "metadata": {},
   "outputs": [
    {
     "data": {
      "text/plain": [
       "140412852898288"
      ]
     },
     "execution_count": 61,
     "metadata": {},
     "output_type": "execute_result"
    }
   ],
   "source": [
    "id(a)"
   ]
  },
  {
   "cell_type": "code",
   "execution_count": 62,
   "id": "6c611620-9c81-4432-b7ca-61938dae31c2",
   "metadata": {},
   "outputs": [
    {
     "data": {
      "text/plain": [
       "140412852896368"
      ]
     },
     "execution_count": 62,
     "metadata": {},
     "output_type": "execute_result"
    }
   ],
   "source": [
    "id(mylist[0])"
   ]
  },
  {
   "cell_type": "code",
   "execution_count": 63,
   "id": "8e49fbba-2d7b-427a-8ab0-ec3f5b972c0e",
   "metadata": {},
   "outputs": [
    {
     "data": {
      "text/plain": [
       "140413348089936"
      ]
     },
     "execution_count": 63,
     "metadata": {},
     "output_type": "execute_result"
    }
   ],
   "source": [
    "id(b)"
   ]
  },
  {
   "cell_type": "code",
   "execution_count": 64,
   "id": "c9eebd09-e656-4450-aa75-b002aa74c8d9",
   "metadata": {},
   "outputs": [
    {
     "data": {
      "text/plain": [
       "140413348089936"
      ]
     },
     "execution_count": 64,
     "metadata": {},
     "output_type": "execute_result"
    }
   ],
   "source": [
    "id(mylist [1])"
   ]
  },
  {
   "cell_type": "code",
   "execution_count": 65,
   "id": "d3e7d00c-4f90-426f-a823-7ab1b4199c76",
   "metadata": {},
   "outputs": [],
   "source": [
    "colors = ['red', 'blue', 'green', 'yellow', 'brown', 'pink']"
   ]
  },
  {
   "cell_type": "code",
   "execution_count": 66,
   "id": "c52772c7-38a2-43e7-8dae-0d66f8856129",
   "metadata": {},
   "outputs": [],
   "source": [
    "bl_gr = ['blue', 'green']\n",
    "re_gr_br = ['red', 'green', 'brown']\n",
    "pk_br_yl = ['pink', 'brown', 'yellow']"
   ]
  },
  {
   "cell_type": "code",
   "execution_count": 67,
   "id": "4660c18b-cdcc-4712-bcdd-f90468eefe2a",
   "metadata": {},
   "outputs": [
    {
     "data": {
      "text/plain": [
       "['blue', 'green']"
      ]
     },
     "execution_count": 67,
     "metadata": {},
     "output_type": "execute_result"
    }
   ],
   "source": [
    "bl_gr"
   ]
  },
  {
   "cell_type": "code",
   "execution_count": 68,
   "id": "83e1939d-8ba7-4592-b57e-27fd2d2d5781",
   "metadata": {},
   "outputs": [
    {
     "data": {
      "text/plain": [
       "['red', 'green', 'brown']"
      ]
     },
     "execution_count": 68,
     "metadata": {},
     "output_type": "execute_result"
    }
   ],
   "source": [
    "re_gr_br"
   ]
  },
  {
   "cell_type": "code",
   "execution_count": 69,
   "id": "b3321f11-706f-4ebb-b640-fea1c6741ade",
   "metadata": {},
   "outputs": [
    {
     "data": {
      "text/plain": [
       "['pink', 'brown', 'yellow']"
      ]
     },
     "execution_count": 69,
     "metadata": {},
     "output_type": "execute_result"
    }
   ],
   "source": [
    "pk_br_yl "
   ]
  },
  {
   "cell_type": "code",
   "execution_count": 71,
   "id": "9da54fd3-86fe-4b72-81d4-988f3229612e",
   "metadata": {},
   "outputs": [],
   "source": [
    "colors = ['red', 'blue', 'green', 'yellow', 'brown', 'pink']"
   ]
  },
  {
   "cell_type": "code",
   "execution_count": 72,
   "id": "3b636796-df60-4aa5-88ea-1f0b79b1fb7b",
   "metadata": {},
   "outputs": [],
   "source": [
    "bl_gr = colors [1:3]"
   ]
  },
  {
   "cell_type": "code",
   "execution_count": 73,
   "id": "f0ddecb1-6369-4bee-ae3b-b58d3b38a67e",
   "metadata": {},
   "outputs": [
    {
     "data": {
      "text/plain": [
       "['blue', 'green']"
      ]
     },
     "execution_count": 73,
     "metadata": {},
     "output_type": "execute_result"
    }
   ],
   "source": [
    "bl_gr "
   ]
  },
  {
   "cell_type": "code",
   "execution_count": 74,
   "id": "d3df0719-4b9d-49cc-ac52-0e5991d2e45f",
   "metadata": {},
   "outputs": [],
   "source": [
    "re_gr_br = colors [ ::2]"
   ]
  },
  {
   "cell_type": "code",
   "execution_count": 75,
   "id": "38ee2e8e-d993-446a-a4c8-e49e1ffc0740",
   "metadata": {},
   "outputs": [
    {
     "data": {
      "text/plain": [
       "['red', 'green', 'brown']"
      ]
     },
     "execution_count": 75,
     "metadata": {},
     "output_type": "execute_result"
    }
   ],
   "source": [
    "re_gr_br"
   ]
  },
  {
   "cell_type": "code",
   "execution_count": 87,
   "id": "a2fc9c4a-bbf6-43f1-a6a2-accc343f2f33",
   "metadata": {},
   "outputs": [
    {
     "data": {
      "text/plain": [
       "['pink', 'brown', 'yellow']"
      ]
     },
     "execution_count": 87,
     "metadata": {},
     "output_type": "execute_result"
    }
   ],
   "source": [
    "colors [-1:-4: -1]"
   ]
  },
  {
   "cell_type": "code",
   "execution_count": null,
   "id": "ff112cf2-ab2d-41f7-a6bb-2adb9641674f",
   "metadata": {},
   "outputs": [],
   "source": []
  }
 ],
 "metadata": {
  "kernelspec": {
   "display_name": "Python 3 (ipykernel)",
   "language": "python",
   "name": "python3"
  },
  "language_info": {
   "codemirror_mode": {
    "name": "ipython",
    "version": 3
   },
   "file_extension": ".py",
   "mimetype": "text/x-python",
   "name": "python",
   "nbconvert_exporter": "python",
   "pygments_lexer": "ipython3",
   "version": "3.10.4"
  },
  "widgets": {
   "application/vnd.jupyter.widget-state+json": {
    "state": {},
    "version_major": 2,
    "version_minor": 0
   }
  }
 },
 "nbformat": 4,
 "nbformat_minor": 5
}
