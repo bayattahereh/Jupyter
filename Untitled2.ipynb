{
 "cells": [
  {
   "cell_type": "code",
   "execution_count": 5,
   "id": "6f200bcd-349b-4edf-bba9-f402648602d3",
   "metadata": {},
   "outputs": [],
   "source": [
    "m = 245"
   ]
  },
  {
   "cell_type": "code",
   "execution_count": 6,
   "id": "4f858847-961d-4500-be6e-c6a33b2c2943",
   "metadata": {},
   "outputs": [],
   "source": [
    "n = 245"
   ]
  },
  {
   "cell_type": "code",
   "execution_count": 7,
   "id": "3ef15526-d420-4bf1-bf95-375d4f26a223",
   "metadata": {},
   "outputs": [],
   "source": [
    "x = 268"
   ]
  },
  {
   "cell_type": "code",
   "execution_count": 8,
   "id": "bd5b6235-0fea-4b3e-9224-4a4fceb48ce7",
   "metadata": {},
   "outputs": [],
   "source": [
    "y = 268"
   ]
  },
  {
   "cell_type": "code",
   "execution_count": 9,
   "id": "30b8642e-ff0a-4185-bf01-2a38bf61add4",
   "metadata": {},
   "outputs": [],
   "source": [
    "z = y"
   ]
  },
  {
   "cell_type": "code",
   "execution_count": 10,
   "id": "3ade01c9-3299-4495-8ab6-170faa7b22c7",
   "metadata": {},
   "outputs": [
    {
     "data": {
      "text/plain": [
       "140413348093808"
      ]
     },
     "execution_count": 10,
     "metadata": {},
     "output_type": "execute_result"
    }
   ],
   "source": [
    "id (m)"
   ]
  },
  {
   "cell_type": "code",
   "execution_count": 11,
   "id": "332104b0-b653-4839-bdeb-43cf62688275",
   "metadata": {},
   "outputs": [
    {
     "data": {
      "text/plain": [
       "140413348093808"
      ]
     },
     "execution_count": 11,
     "metadata": {},
     "output_type": "execute_result"
    }
   ],
   "source": [
    "id (n)"
   ]
  },
  {
   "cell_type": "code",
   "execution_count": 12,
   "id": "4a4072fc-ef88-44d9-bbc2-618843c54b0a",
   "metadata": {},
   "outputs": [
    {
     "data": {
      "text/plain": [
       "140413294255376"
      ]
     },
     "execution_count": 12,
     "metadata": {},
     "output_type": "execute_result"
    }
   ],
   "source": [
    "id(x)"
   ]
  },
  {
   "cell_type": "code",
   "execution_count": 13,
   "id": "2c110117-8b9d-482b-8c17-61beebe1c31b",
   "metadata": {},
   "outputs": [
    {
     "data": {
      "text/plain": [
       "140413294250960"
      ]
     },
     "execution_count": 13,
     "metadata": {},
     "output_type": "execute_result"
    }
   ],
   "source": [
    "id(y)"
   ]
  },
  {
   "cell_type": "code",
   "execution_count": 14,
   "id": "30041b97-e477-4d2b-89ee-cb79554ac7ce",
   "metadata": {},
   "outputs": [
    {
     "data": {
      "text/plain": [
       "140413294250960"
      ]
     },
     "execution_count": 14,
     "metadata": {},
     "output_type": "execute_result"
    }
   ],
   "source": [
    "id(z)"
   ]
  },
  {
   "cell_type": "code",
   "execution_count": 15,
   "id": "de02d19c-dec1-4f31-8769-5420448a1070",
   "metadata": {},
   "outputs": [
    {
     "data": {
      "text/plain": [
       "True"
      ]
     },
     "execution_count": 15,
     "metadata": {},
     "output_type": "execute_result"
    }
   ],
   "source": [
    "id (m) == id (n)"
   ]
  },
  {
   "cell_type": "code",
   "execution_count": 16,
   "id": "08e3bbe1-7e56-4c36-8c63-63e49cbf5950",
   "metadata": {},
   "outputs": [
    {
     "data": {
      "text/plain": [
       "False"
      ]
     },
     "execution_count": 16,
     "metadata": {},
     "output_type": "execute_result"
    }
   ],
   "source": [
    "id (x) == id (y)"
   ]
  },
  {
   "cell_type": "code",
   "execution_count": 17,
   "id": "69740774-8bd8-42e1-af6a-c089501ec099",
   "metadata": {},
   "outputs": [
    {
     "data": {
      "text/plain": [
       "True"
      ]
     },
     "execution_count": 17,
     "metadata": {},
     "output_type": "execute_result"
    }
   ],
   "source": [
    "id (y) == id (z)"
   ]
  },
  {
   "cell_type": "code",
   "execution_count": 22,
   "id": "4cb2841c-8df8-4a30-a905-e7e6c3b9e265",
   "metadata": {},
   "outputs": [],
   "source": [
    "var_s , var_i , var_f = 'pytopia' , 2022 , 3.14"
   ]
  },
  {
   "cell_type": "code",
   "execution_count": 23,
   "id": "125cb271-dd47-42a1-b244-8998b8696e0e",
   "metadata": {},
   "outputs": [
    {
     "data": {
      "text/plain": [
       "'pytopia'"
      ]
     },
     "execution_count": 23,
     "metadata": {},
     "output_type": "execute_result"
    }
   ],
   "source": [
    "var_s"
   ]
  },
  {
   "cell_type": "code",
   "execution_count": 25,
   "id": "dea90a88-1df3-4ba9-a97f-678b9bcae62d",
   "metadata": {},
   "outputs": [],
   "source": [
    "i = 30474# this is a commetn . dont take it seriously\n",
    "b = 4989# this is a commetn . dont take it seriously\n",
    "c = 858559# this is a commetn . dont take it seriously"
   ]
  },
  {
   "cell_type": "code",
   "execution_count": 26,
   "id": "3c751566-6e79-4d9c-afdc-e914889b6c28",
   "metadata": {},
   "outputs": [],
   "source": [
    "m = 300"
   ]
  },
  {
   "cell_type": "code",
   "execution_count": 27,
   "id": "387196df-d304-4577-85e2-b93168a7ff5f",
   "metadata": {},
   "outputs": [],
   "source": [
    "n = m"
   ]
  },
  {
   "cell_type": "code",
   "execution_count": 28,
   "id": "82fb1490-cdd9-49bf-bdbf-02aae6240fad",
   "metadata": {},
   "outputs": [
    {
     "data": {
      "text/plain": [
       "True"
      ]
     },
     "execution_count": 28,
     "metadata": {},
     "output_type": "execute_result"
    }
   ],
   "source": [
    "id(m) == id (n)"
   ]
  },
  {
   "cell_type": "code",
   "execution_count": 29,
   "id": "9dc78ad4-7e32-4c8d-b6d3-ac740852b0ed",
   "metadata": {},
   "outputs": [],
   "source": [
    "num_list = [1, 3, 6, 10, 15, 21, 28, 36, 45, 55, 66, 78]"
   ]
  },
  {
   "cell_type": "code",
   "execution_count": 36,
   "id": "2368273b-3c34-4a3f-a583-bec8a800d214",
   "metadata": {},
   "outputs": [
    {
     "data": {
      "text/plain": [
       "(1, 6, 78)"
      ]
     },
     "execution_count": 36,
     "metadata": {},
     "output_type": "execute_result"
    }
   ],
   "source": [
    "num_list [0] , num_list [2] , num_list [-1]"
   ]
  },
  {
   "cell_type": "code",
   "execution_count": 37,
   "id": "f06eac0e-bf48-4d92-8b46-a5a9bff1209e",
   "metadata": {},
   "outputs": [],
   "source": [
    "grades = [12, 19, 14, 15, 17.5, 18, 10.25, 9.75, 19, 14, 12, 11.25, 17, 18, 13, 13, 15, 19, 18.5]"
   ]
  },
  {
   "cell_type": "code",
   "execution_count": 40,
   "id": "d6db8630-b594-4efd-8570-b92adc010011",
   "metadata": {},
   "outputs": [
    {
     "data": {
      "text/plain": [
       "True"
      ]
     },
     "execution_count": 40,
     "metadata": {},
     "output_type": "execute_result"
    }
   ],
   "source": [
    "9.75 in grades "
   ]
  },
  {
   "cell_type": "code",
   "execution_count": 44,
   "id": "9c5001b8-db5f-439e-a090-4e131bc2400c",
   "metadata": {},
   "outputs": [
    {
     "data": {
      "text/plain": [
       "7"
      ]
     },
     "execution_count": 44,
     "metadata": {},
     "output_type": "execute_result"
    }
   ],
   "source": [
    "grades.index ( 9.75 )"
   ]
  },
  {
   "cell_type": "code",
   "execution_count": 46,
   "id": "f374cee2-368d-4c19-89d2-f8052021d606",
   "metadata": {},
   "outputs": [],
   "source": [
    "grades [ 7 ] = 10"
   ]
  },
  {
   "cell_type": "code",
   "execution_count": 47,
   "id": "18b46f44-3e5f-4186-b07f-08af9b332f2d",
   "metadata": {},
   "outputs": [
    {
     "data": {
      "text/plain": [
       "[12,\n",
       " 19,\n",
       " 14,\n",
       " 15,\n",
       " 17.5,\n",
       " 18,\n",
       " 10.25,\n",
       " 10,\n",
       " 19,\n",
       " 14,\n",
       " 12,\n",
       " 11.25,\n",
       " 17,\n",
       " 18,\n",
       " 13,\n",
       " 13,\n",
       " 15,\n",
       " 19,\n",
       " 18.5]"
      ]
     },
     "execution_count": 47,
     "metadata": {},
     "output_type": "execute_result"
    }
   ],
   "source": [
    "grades"
   ]
  },
  {
   "cell_type": "code",
   "execution_count": 48,
   "id": "c0efa28a-2ef6-4efa-abbf-767e42761b38",
   "metadata": {},
   "outputs": [],
   "source": [
    "inp_list = [10, 20, 30, 40]"
   ]
  },
  {
   "cell_type": "code",
   "execution_count": 49,
   "id": "5acb053a-7e05-4abd-b31d-e63e0d3558f1",
   "metadata": {},
   "outputs": [],
   "source": [
    "del inp_list[0:6]"
   ]
  },
  {
   "cell_type": "code",
   "execution_count": 51,
   "id": "c6812c3c-fd17-49bd-8d8f-716c37e0a4be",
   "metadata": {},
   "outputs": [
    {
     "data": {
      "text/plain": [
       "[]"
      ]
     },
     "execution_count": 51,
     "metadata": {},
     "output_type": "execute_result"
    }
   ],
   "source": [
    "inp_list"
   ]
  },
  {
   "cell_type": "code",
   "execution_count": 52,
   "id": "7f48a2a2-bb0a-4c64-a1ca-f15b860da8d9",
   "metadata": {},
   "outputs": [
    {
     "name": "stdout",
     "output_type": "stream",
     "text": [
      "[]\n"
     ]
    }
   ],
   "source": [
    "print(inp_list)"
   ]
  },
  {
   "cell_type": "code",
   "execution_count": 53,
   "id": "7e0f1772-87a0-4607-8686-58b3513533ea",
   "metadata": {},
   "outputs": [
    {
     "ename": "SyntaxError",
     "evalue": "invalid syntax (3696883885.py, line 1)",
     "output_type": "error",
     "traceback": [
      "\u001b[0;36m  Cell \u001b[0;32mIn [53], line 1\u001b[0;36m\u001b[0m\n\u001b[0;31m    a = 300 b = 124 mylist = [300, 124, 100]\u001b[0m\n\u001b[0m            ^\u001b[0m\n\u001b[0;31mSyntaxError\u001b[0m\u001b[0;31m:\u001b[0m invalid syntax\n"
     ]
    }
   ],
   "source": [
    "a = 300 b = 124 \n",
    "mylist = [300, 124, 100]"
   ]
  },
  {
   "cell_type": "code",
   "execution_count": null,
   "id": "6d1a776e-3cc8-4242-b951-901da52e027a",
   "metadata": {
    "jupyter": {
     "source_hidden": true
    },
    "tags": []
   },
   "outputs": [],
   "source": [
    "a = 100\n",
    "b = 1"
   ]
  },
  {
   "cell_type": "code",
   "execution_count": null,
   "id": "e0d2648f-6276-4c26-bb8c-9f2c0e3c0da6",
   "metadata": {},
   "outputs": [],
   "source": [
    "id"
   ]
  },
  {
   "cell_type": "code",
   "execution_count": 54,
   "id": "d8e954f1-8c6d-4c28-8cdb-4b10e1c8c4e7",
   "metadata": {},
   "outputs": [
    {
     "name": "stdout",
     "output_type": "stream",
     "text": [
      "False True True True\n"
     ]
    }
   ],
   "source": [
    "print(bool(0), bool(3.14159), bool(-3), bool(1.0+1j))"
   ]
  },
  {
   "cell_type": "code",
   "execution_count": 55,
   "id": "b2e6edd1-0ff5-42ff-8dcc-820a941a5813",
   "metadata": {
    "tags": []
   },
   "outputs": [
    {
     "ename": "SyntaxError",
     "evalue": "invalid syntax (1662264668.py, line 1)",
     "output_type": "error",
     "traceback": [
      "\u001b[0;36m  Cell \u001b[0;32mIn [55], line 1\u001b[0;36m\u001b[0m\n\u001b[0;31m    - 0 0.0 0+ 0+j\u001b[0m\n\u001b[0m        ^\u001b[0m\n\u001b[0;31mSyntaxError\u001b[0m\u001b[0;31m:\u001b[0m invalid syntax\n"
     ]
    }
   ],
   "source": [
    "- 0 0.0 0+ 0+j\n",
    "- False\n",
    "- \"\" [] {} \n",
    "-None"
   ]
  },
  {
   "cell_type": "code",
   "execution_count": 56,
   "id": "ccdc8aa7-b34e-4677-8c1f-0b185398794e",
   "metadata": {},
   "outputs": [],
   "source": [
    "a = 4\n",
    "b = 11"
   ]
  },
  {
   "cell_type": "code",
   "execution_count": 58,
   "id": "23f00680-ea26-4834-a534-b235b3b54170",
   "metadata": {},
   "outputs": [
    {
     "name": "stdout",
     "output_type": "stream",
     "text": [
      "15 1\n"
     ]
    }
   ],
   "source": [
    "print ((a | b, a >> 2))"
   ]
  },
  {
   "cell_type": "code",
   "execution_count": 59,
   "id": "69cf5631-904b-420f-8465-95b3c40a2fc8",
   "metadata": {},
   "outputs": [],
   "source": [
    "a = 300\n",
    "b = 124 "
   ]
  },
  {
   "cell_type": "code",
   "execution_count": 60,
   "id": "5f8ec11d-a97a-4228-abe5-c0b142a2df10",
   "metadata": {},
   "outputs": [],
   "source": [
    "mylist = [300, 124, 100]"
   ]
  },
  {
   "cell_type": "code",
   "execution_count": 61,
   "id": "3dde732b-18ed-4f3f-88b7-468e66f450d4",
   "metadata": {},
   "outputs": [
    {
     "data": {
      "text/plain": [
       "140412852898288"
      ]
     },
     "execution_count": 61,
     "metadata": {},
     "output_type": "execute_result"
    }
   ],
   "source": [
    "id(a)"
   ]
  },
  {
   "cell_type": "code",
   "execution_count": 62,
   "id": "6c611620-9c81-4432-b7ca-61938dae31c2",
   "metadata": {},
   "outputs": [
    {
     "data": {
      "text/plain": [
       "140412852896368"
      ]
     },
     "execution_count": 62,
     "metadata": {},
     "output_type": "execute_result"
    }
   ],
   "source": [
    "id(mylist[0])"
   ]
  },
  {
   "cell_type": "code",
   "execution_count": 63,
   "id": "8e49fbba-2d7b-427a-8ab0-ec3f5b972c0e",
   "metadata": {},
   "outputs": [
    {
     "data": {
      "text/plain": [
       "140413348089936"
      ]
     },
     "execution_count": 63,
     "metadata": {},
     "output_type": "execute_result"
    }
   ],
   "source": [
    "id(b)"
   ]
  },
  {
   "cell_type": "code",
   "execution_count": 64,
   "id": "c9eebd09-e656-4450-aa75-b002aa74c8d9",
   "metadata": {},
   "outputs": [
    {
     "data": {
      "text/plain": [
       "140413348089936"
      ]
     },
     "execution_count": 64,
     "metadata": {},
     "output_type": "execute_result"
    }
   ],
   "source": [
    "id(mylist [1])"
   ]
  },
  {
   "cell_type": "code",
   "execution_count": 65,
   "id": "d3e7d00c-4f90-426f-a823-7ab1b4199c76",
   "metadata": {},
   "outputs": [],
   "source": [
    "colors = ['red', 'blue', 'green', 'yellow', 'brown', 'pink']"
   ]
  },
  {
   "cell_type": "code",
   "execution_count": 66,
   "id": "c52772c7-38a2-43e7-8dae-0d66f8856129",
   "metadata": {},
   "outputs": [],
   "source": [
    "bl_gr = ['blue', 'green']\n",
    "re_gr_br = ['red', 'green', 'brown']\n",
    "pk_br_yl = ['pink', 'brown', 'yellow']"
   ]
  },
  {
   "cell_type": "code",
   "execution_count": 67,
   "id": "4660c18b-cdcc-4712-bcdd-f90468eefe2a",
   "metadata": {},
   "outputs": [
    {
     "data": {
      "text/plain": [
       "['blue', 'green']"
      ]
     },
     "execution_count": 67,
     "metadata": {},
     "output_type": "execute_result"
    }
   ],
   "source": [
    "bl_gr"
   ]
  },
  {
   "cell_type": "code",
   "execution_count": 68,
   "id": "83e1939d-8ba7-4592-b57e-27fd2d2d5781",
   "metadata": {},
   "outputs": [
    {
     "data": {
      "text/plain": [
       "['red', 'green', 'brown']"
      ]
     },
     "execution_count": 68,
     "metadata": {},
     "output_type": "execute_result"
    }
   ],
   "source": [
    "re_gr_br"
   ]
  },
  {
   "cell_type": "code",
   "execution_count": 69,
   "id": "b3321f11-706f-4ebb-b640-fea1c6741ade",
   "metadata": {},
   "outputs": [
    {
     "data": {
      "text/plain": [
       "['pink', 'brown', 'yellow']"
      ]
     },
     "execution_count": 69,
     "metadata": {},
     "output_type": "execute_result"
    }
   ],
   "source": [
    "pk_br_yl "
   ]
  },
  {
   "cell_type": "code",
   "execution_count": 71,
   "id": "9da54fd3-86fe-4b72-81d4-988f3229612e",
   "metadata": {},
   "outputs": [],
   "source": [
    "colors = ['red', 'blue', 'green', 'yellow', 'brown', 'pink']"
   ]
  },
  {
   "cell_type": "code",
   "execution_count": 72,
   "id": "3b636796-df60-4aa5-88ea-1f0b79b1fb7b",
   "metadata": {},
   "outputs": [],
   "source": [
    "bl_gr = colors [1:3]"
   ]
  },
  {
   "cell_type": "code",
   "execution_count": 73,
   "id": "f0ddecb1-6369-4bee-ae3b-b58d3b38a67e",
   "metadata": {},
   "outputs": [
    {
     "data": {
      "text/plain": [
       "['blue', 'green']"
      ]
     },
     "execution_count": 73,
     "metadata": {},
     "output_type": "execute_result"
    }
   ],
   "source": [
    "bl_gr "
   ]
  },
  {
   "cell_type": "code",
   "execution_count": 74,
   "id": "d3df0719-4b9d-49cc-ac52-0e5991d2e45f",
   "metadata": {},
   "outputs": [],
   "source": [
    "re_gr_br = colors [ ::2]"
   ]
  },
  {
   "cell_type": "code",
   "execution_count": 75,
   "id": "38ee2e8e-d993-446a-a4c8-e49e1ffc0740",
   "metadata": {},
   "outputs": [
    {
     "data": {
      "text/plain": [
       "['red', 'green', 'brown']"
      ]
     },
     "execution_count": 75,
     "metadata": {},
     "output_type": "execute_result"
    }
   ],
   "source": [
    "re_gr_br"
   ]
  },
  {
   "cell_type": "code",
   "execution_count": 87,
   "id": "a2fc9c4a-bbf6-43f1-a6a2-accc343f2f33",
   "metadata": {},
   "outputs": [
    {
     "data": {
      "text/plain": [
       "['pink', 'brown', 'yellow']"
      ]
     },
     "execution_count": 87,
     "metadata": {},
     "output_type": "execute_result"
    }
   ],
   "source": [
    "colors [-1:-4: -1]"
   ]
  },
  {
   "cell_type": "code",
   "execution_count": 89,
   "id": "ff112cf2-ab2d-41f7-a6bb-2adb9641674f",
   "metadata": {},
   "outputs": [],
   "source": [
    "persian_gulf_standing = [\n",
    "    ['Esteghlel F.C', 1],\n",
    "    ['Sepahan', 2],\n",
    "    ['Perspolis', 3],\n",
    "    ['Gol Gohar', 4],\n",
    "    ['Foolad', 5]\n",
    "]"
   ]
  },
  {
   "cell_type": "code",
   "execution_count": 91,
   "id": "f048f8dc-dc9f-44c0-8154-ee38315c063c",
   "metadata": {},
   "outputs": [
    {
     "data": {
      "text/plain": [
       "'Gol Gohar'"
      ]
     },
     "execution_count": 91,
     "metadata": {},
     "output_type": "execute_result"
    }
   ],
   "source": [
    "persian_gulf_standing [3][0]"
   ]
  },
  {
   "cell_type": "code",
   "execution_count": 92,
   "id": "4d9b32e4-39de-4415-8663-0d8691ec632e",
   "metadata": {},
   "outputs": [],
   "source": [
    "num_list = [3, 47, 10, 15, 21, 28, 13, 45, 66, 12, 34, 56, 78]"
   ]
  },
  {
   "cell_type": "code",
   "execution_count": 99,
   "id": "d562be00-2391-42be-bcb2-1b1392236d5f",
   "metadata": {},
   "outputs": [
    {
     "data": {
      "text/plain": [
       "66"
      ]
     },
     "execution_count": 99,
     "metadata": {},
     "output_type": "execute_result"
    }
   ],
   "source": [
    "sorted( num_list) [-2]"
   ]
  },
  {
   "cell_type": "code",
   "execution_count": 100,
   "id": "bf124e4c-48ae-442b-8aa5-bcadc00ebd2e",
   "metadata": {},
   "outputs": [],
   "source": [
    "random_num_data = [18, 60, -10, 17, 55, 8, -1, 31, 52, 31,\n",
    "                    27, 14, 25, 0, -2, 15, -1, 50, 45, -4,\n",
    "                    42, -10, 40, 3, 43, 55, 24, -17, 17, 54, \n",
    "                    19, 24, 44, 30, 24, 3, -17, 31, 45, -10, \n",
    "                    13, -12, 21, -13, 52, 57, -1, 37, 21, 42]"
   ]
  },
  {
   "cell_type": "code",
   "execution_count": 102,
   "id": "7941b059-10f7-40a5-a31d-4e5fd4d435bf",
   "metadata": {},
   "outputs": [
    {
     "data": {
      "text/plain": [
       "60"
      ]
     },
     "execution_count": 102,
     "metadata": {},
     "output_type": "execute_result"
    }
   ],
   "source": [
    "max (random_num_data)"
   ]
  },
  {
   "cell_type": "code",
   "execution_count": 103,
   "id": "02eba3e7-1d4d-4722-9705-b7b0b279e35f",
   "metadata": {},
   "outputs": [
    {
     "data": {
      "text/plain": [
       "-17"
      ]
     },
     "execution_count": 103,
     "metadata": {},
     "output_type": "execute_result"
    }
   ],
   "source": [
    "min (random_num_data)"
   ]
  },
  {
   "cell_type": "code",
   "execution_count": 105,
   "id": "5c12d3bd-a1c0-486b-aafd-3b2eb24b1a2b",
   "metadata": {},
   "outputs": [
    {
     "data": {
      "text/plain": [
       "1091"
      ]
     },
     "execution_count": 105,
     "metadata": {},
     "output_type": "execute_result"
    }
   ],
   "source": [
    "sum (random_num_data)"
   ]
  },
  {
   "cell_type": "code",
   "execution_count": 107,
   "id": "30927d63-8c00-402b-9fb8-b0e27dd69b52",
   "metadata": {},
   "outputs": [
    {
     "ename": "NameError",
     "evalue": "name 'statistics' is not defined",
     "output_type": "error",
     "traceback": [
      "\u001b[0;31m---------------------------------------------------------------------------\u001b[0m",
      "\u001b[0;31mNameError\u001b[0m                                 Traceback (most recent call last)",
      "Cell \u001b[0;32mIn [107], line 1\u001b[0m\n\u001b[0;32m----> 1\u001b[0m \u001b[43mstatistics\u001b[49m\u001b[38;5;241m.\u001b[39mmean (random_num_data)\n",
      "\u001b[0;31mNameError\u001b[0m: name 'statistics' is not defined"
     ]
    }
   ],
   "source": [
    "statistics.mean (random_num_data)"
   ]
  },
  {
   "cell_type": "code",
   "execution_count": 108,
   "id": "3e854a05-4ca6-4d0a-bf7d-76eccd3ab45a",
   "metadata": {},
   "outputs": [],
   "source": [
    "import statistics"
   ]
  },
  {
   "cell_type": "code",
   "execution_count": 109,
   "id": "07547056-ac60-45e5-8a97-ee99a6e29dcb",
   "metadata": {},
   "outputs": [
    {
     "data": {
      "text/plain": [
       "21.82"
      ]
     },
     "execution_count": 109,
     "metadata": {},
     "output_type": "execute_result"
    }
   ],
   "source": [
    "statistics.mean (random_num_data)"
   ]
  },
  {
   "cell_type": "code",
   "execution_count": 111,
   "id": "5a52bdd5-dc0c-45b1-9383-90959ceb8c0e",
   "metadata": {},
   "outputs": [
    {
     "data": {
      "text/plain": [
       "21.82"
      ]
     },
     "execution_count": 111,
     "metadata": {},
     "output_type": "execute_result"
    }
   ],
   "source": [
    "sum (random_num_data) / len (random_num_data)"
   ]
  },
  {
   "cell_type": "code",
   "execution_count": 112,
   "id": "bd583727-75c1-42a5-97d8-48554a4cd2d4",
   "metadata": {},
   "outputs": [],
   "source": [
    "import numpy as np"
   ]
  },
  {
   "cell_type": "code",
   "execution_count": 113,
   "id": "bf15b244-23ac-4203-b782-5b49eea5daec",
   "metadata": {},
   "outputs": [
    {
     "data": {
      "text/plain": [
       "21.82"
      ]
     },
     "execution_count": 113,
     "metadata": {},
     "output_type": "execute_result"
    }
   ],
   "source": [
    "np. mean (random_num_data ) "
   ]
  },
  {
   "cell_type": "code",
   "execution_count": 114,
   "id": "b2102963-98bb-4b1e-b6c5-00360ab8ad36",
   "metadata": {},
   "outputs": [],
   "source": [
    "programming_langs = [\"Julia\", \"Python\"] "
   ]
  },
  {
   "cell_type": "code",
   "execution_count": 116,
   "id": "e1bac8f7-91b5-42bf-b95f-3ef91670cf57",
   "metadata": {},
   "outputs": [],
   "source": [
    "programming_langs. append ( 'R')"
   ]
  },
  {
   "cell_type": "code",
   "execution_count": 117,
   "id": "779d3083-f204-41fb-8c10-6c4db08e6800",
   "metadata": {},
   "outputs": [
    {
     "data": {
      "text/plain": [
       "['Julia', 'Python', 'R']"
      ]
     },
     "execution_count": 117,
     "metadata": {},
     "output_type": "execute_result"
    }
   ],
   "source": [
    "programming_langs"
   ]
  },
  {
   "cell_type": "code",
   "execution_count": 118,
   "id": "84524618-bd3d-4156-b1a7-9ece41cbacc4",
   "metadata": {},
   "outputs": [],
   "source": [
    "x = y = []\n",
    "x.append(2)\n",
    "y.append(3)"
   ]
  },
  {
   "cell_type": "code",
   "execution_count": 119,
   "id": "0d0a7846-76dc-48bc-9969-615c73674e74",
   "metadata": {},
   "outputs": [
    {
     "data": {
      "text/plain": [
       "[2, 3]"
      ]
     },
     "execution_count": 119,
     "metadata": {},
     "output_type": "execute_result"
    }
   ],
   "source": [
    "x"
   ]
  },
  {
   "cell_type": "code",
   "execution_count": 120,
   "id": "1bf6dfa1-596f-4e35-a45b-e7682b18cc02",
   "metadata": {},
   "outputs": [
    {
     "data": {
      "text/plain": [
       "[2, 3]"
      ]
     },
     "execution_count": 120,
     "metadata": {},
     "output_type": "execute_result"
    }
   ],
   "source": [
    "y"
   ]
  },
  {
   "cell_type": "code",
   "execution_count": 124,
   "id": "cfe5fb6b-f75c-44f0-9c1a-39a18b3b1107",
   "metadata": {},
   "outputs": [],
   "source": [
    "mixed_tuple = (\"Orange\", [10, 20, 30], (5, 15, 25))"
   ]
  },
  {
   "cell_type": "code",
   "execution_count": null,
   "id": "a6ee5601-7806-430f-811e-8a767376ca93",
   "metadata": {},
   "outputs": [],
   "source": [
    "mixed_tuple = (\"Orange\", [10, 20, 30], (5, 15, 25))"
   ]
  },
  {
   "cell_type": "code",
   "execution_count": null,
   "id": "826f158a-22fa-4736-a012-9ae94139d0a1",
   "metadata": {},
   "outputs": [],
   "source": [
    "value_20 =  #?"
   ]
  },
  {
   "cell_type": "code",
   "execution_count": null,
   "id": "6b47c042-5313-458f-8243-1ddff50292f0",
   "metadata": {},
   "outputs": [],
   "source": [
    "char_g =    #?"
   ]
  },
  {
   "cell_type": "code",
   "execution_count": null,
   "id": "da0ccd82-2c2b-4d0f-8ffb-1ed45ddbd099",
   "metadata": {},
   "outputs": [],
   "source": [
    "mixed_tuple = (\"Orange\", [10, 20, 30], (5, 15, 25))"
   ]
  },
  {
   "cell_type": "code",
   "execution_count": null,
   "id": "fb844888-fb0e-4631-9d7b-c249a4d0866c",
   "metadata": {},
   "outputs": [],
   "source": [
    "value_20 =  #?"
   ]
  },
  {
   "cell_type": "code",
   "execution_count": null,
   "id": "08247b82-34cd-474d-85f6-97b72301bdb4",
   "metadata": {},
   "outputs": [],
   "source": [
    "char_g =    #?"
   ]
  },
  {
   "cell_type": "code",
   "execution_count": null,
   "id": "47fd721d-3cd7-4cbe-802d-cdf20ea59bcc",
   "metadata": {},
   "outputs": [],
   "source": []
  },
  {
   "cell_type": "code",
   "execution_count": 125,
   "id": "bdbfcd4d-9e8e-444d-8664-d2e74a971e93",
   "metadata": {},
   "outputs": [],
   "source": [
    "mixed_tuple = (\"Orange\", [10, 20, 30], (5, 15, 25))\n",
    "value_20 = mixed_tuple [1] [1] \n",
    "char_g =   mixed_tuple [0] [4] "
   ]
  },
  {
   "cell_type": "code",
   "execution_count": 126,
   "id": "393c6ebe-c0fb-430a-b66a-30433b7392d6",
   "metadata": {},
   "outputs": [
    {
     "data": {
      "text/plain": [
       "20"
      ]
     },
     "execution_count": 126,
     "metadata": {},
     "output_type": "execute_result"
    }
   ],
   "source": [
    "value_20 "
   ]
  },
  {
   "cell_type": "code",
   "execution_count": 127,
   "id": "ef43b782-74ea-4616-a146-a54bba5c298f",
   "metadata": {},
   "outputs": [
    {
     "data": {
      "text/plain": [
       "'g'"
      ]
     },
     "execution_count": 127,
     "metadata": {},
     "output_type": "execute_result"
    }
   ],
   "source": [
    "char_g"
   ]
  },
  {
   "cell_type": "code",
   "execution_count": 128,
   "id": "d1c123ad-db59-4d42-82d4-f9dcdd2609b2",
   "metadata": {},
   "outputs": [],
   "source": [
    "num_tup = (10, 20, 30, 40, 50)"
   ]
  },
  {
   "cell_type": "code",
   "execution_count": 129,
   "id": "091cd75a-a064-4c77-8534-87da512f4d78",
   "metadata": {},
   "outputs": [
    {
     "data": {
      "text/plain": [
       "(50, 40, 30, 20, 10)"
      ]
     },
     "execution_count": 129,
     "metadata": {},
     "output_type": "execute_result"
    }
   ],
   "source": [
    "num_tup [::-1]"
   ]
  },
  {
   "cell_type": "code",
   "execution_count": 131,
   "id": "c85760f7-7021-42ed-a114-c1d097be1ee9",
   "metadata": {},
   "outputs": [],
   "source": [
    "shahnameh_tuple = ('Sohrab', 'Faramarz', 'Jahangir', 'Siyavash')"
   ]
  },
  {
   "cell_type": "code",
   "execution_count": 132,
   "id": "8b352c80-af3d-4f8e-a9eb-acf7e79448e5",
   "metadata": {},
   "outputs": [],
   "source": [
    "s, F, J, Si = shahnameh_tuple"
   ]
  },
  {
   "cell_type": "code",
   "execution_count": 135,
   "id": "22a89057-fde3-4e9c-889c-0d57107065b4",
   "metadata": {},
   "outputs": [],
   "source": [
    "s, *ignore = shahnameh_tuple"
   ]
  },
  {
   "cell_type": "code",
   "execution_count": 136,
   "id": "eeccb02b-0fda-4b2b-a3e0-d34e947bf1ed",
   "metadata": {},
   "outputs": [
    {
     "data": {
      "text/plain": [
       "'Sohrab'"
      ]
     },
     "execution_count": 136,
     "metadata": {},
     "output_type": "execute_result"
    }
   ],
   "source": [
    "s"
   ]
  },
  {
   "cell_type": "code",
   "execution_count": 137,
   "id": "a88139fd-2dfe-4a63-92e9-fb134fabf0ac",
   "metadata": {},
   "outputs": [],
   "source": [
    "s, *_ = shahnameh_tuple"
   ]
  },
  {
   "cell_type": "code",
   "execution_count": 138,
   "id": "31beb2e9-2fde-4655-9905-bcc51af24a50",
   "metadata": {},
   "outputs": [
    {
     "data": {
      "text/plain": [
       "'Sohrab'"
      ]
     },
     "execution_count": 138,
     "metadata": {},
     "output_type": "execute_result"
    }
   ],
   "source": [
    "s"
   ]
  },
  {
   "cell_type": "code",
   "execution_count": 140,
   "id": "8b8165f2-c88a-46c2-84d6-7188e4948d1f",
   "metadata": {},
   "outputs": [],
   "source": [
    "tuple1 = (11, 22, 33, 44, 55, 66)"
   ]
  },
  {
   "cell_type": "code",
   "execution_count": 145,
   "id": "840d2c1c-ab01-43fe-a363-dfa69823c9d5",
   "metadata": {},
   "outputs": [],
   "source": [
    "split_point = 33"
   ]
  },
  {
   "cell_type": "code",
   "execution_count": 146,
   "id": "1b78b924-8840-427c-9a13-a2d0dfa1b105",
   "metadata": {},
   "outputs": [
    {
     "data": {
      "text/plain": [
       "()"
      ]
     },
     "execution_count": 146,
     "metadata": {},
     "output_type": "execute_result"
    }
   ],
   "source": [
    "tuple1 [split_point: ]"
   ]
  },
  {
   "cell_type": "code",
   "execution_count": 160,
   "id": "f3be06cc-2ec5-4ab5-a66b-4a4d36545843",
   "metadata": {},
   "outputs": [],
   "source": [
    "persian_poets = 'saadi', 'frough', 'hafez', 'parvin', 'saeb'"
   ]
  },
  {
   "cell_type": "code",
   "execution_count": 170,
   "id": "f8e8477e-7107-46ca-9256-40bd4f33eba4",
   "metadata": {},
   "outputs": [
    {
     "ename": "NameError",
     "evalue": "name 'poets' is not defined",
     "output_type": "error",
     "traceback": [
      "\u001b[0;31m---------------------------------------------------------------------------\u001b[0m",
      "\u001b[0;31mNameError\u001b[0m                                 Traceback (most recent call last)",
      "Cell \u001b[0;32mIn [170], line 1\u001b[0m\n\u001b[0;32m----> 1\u001b[0m persian_poets_wo_hafez \u001b[38;5;241m=\u001b[39m \u001b[38;5;28mtuple\u001b[39m(\u001b[38;5;28mlist\u001b[39m(\u001b[43mpoets\u001b[49m)\u001b[38;5;241m.\u001b[39mremove(\u001b[38;5;124m\"\u001b[39m\u001b[38;5;124mhafez\u001b[39m\u001b[38;5;124m\"\u001b[39m))\n",
      "\u001b[0;31mNameError\u001b[0m: name 'poets' is not defined"
     ]
    }
   ],
   "source": [
    "persian_poets_wo_hafez = tuple(list(poets).remove(\"hafez\"))"
   ]
  },
  {
   "cell_type": "code",
   "execution_count": 168,
   "id": "b75fbd06-6b3d-493f-bbc6-d4ec16c24c7d",
   "metadata": {},
   "outputs": [],
   "source": [
    "list (persian_poets). remove(\"hafez\")"
   ]
  },
  {
   "cell_type": "code",
   "execution_count": 169,
   "id": "08523327-f797-4018-b33f-dc26c25a0022",
   "metadata": {},
   "outputs": [
    {
     "data": {
      "text/plain": [
       "('saadi', 'frough', 'hafez', 'parvin', 'saeb')"
      ]
     },
     "execution_count": 169,
     "metadata": {},
     "output_type": "execute_result"
    }
   ],
   "source": [
    "persian_poets"
   ]
  },
  {
   "cell_type": "code",
   "execution_count": 1,
   "id": "1ad5b4ad-fdaa-4576-9d95-19d2fc6784d7",
   "metadata": {},
   "outputs": [
    {
     "ename": "NameError",
     "evalue": "name 'persian_poets' is not defined",
     "output_type": "error",
     "traceback": [
      "\u001b[0;31m---------------------------------------------------------------------------\u001b[0m",
      "\u001b[0;31mNameError\u001b[0m                                 Traceback (most recent call last)",
      "Cell \u001b[0;32mIn [1], line 1\u001b[0m\n\u001b[0;32m----> 1\u001b[0m \u001b[38;5;28mlist\u001b[39m (\u001b[43mpersian_poets\u001b[49m)\u001b[38;5;241m.\u001b[39m remove(\u001b[38;5;124m\"\u001b[39m\u001b[38;5;124mhafez\u001b[39m\u001b[38;5;124m\"\u001b[39m)\n",
      "\u001b[0;31mNameError\u001b[0m: name 'persian_poets' is not defined"
     ]
    }
   ],
   "source": [
    "list (persian_poets). remove(\"hafez\")"
   ]
  },
  {
   "cell_type": "code",
   "execution_count": 5,
   "id": "b3cf1799-bc83-4b4d-9b1f-ced156a6a977",
   "metadata": {},
   "outputs": [],
   "source": [
    "de = {\n",
    "    1: { 'name' : 'kourosh', 'family' : 'Kouroshi',},\n",
    "    2: {'name' :'shirin', 'family':'shirini',}\n",
    "}"
   ]
  },
  {
   "cell_type": "code",
   "execution_count": 6,
   "id": "7eae326d-99f0-403b-87d1-39588e0116cb",
   "metadata": {},
   "outputs": [
    {
     "data": {
      "text/plain": [
       "{'name': 'kourosh', 'family': 'Kouroshi'}"
      ]
     },
     "execution_count": 6,
     "metadata": {},
     "output_type": "execute_result"
    }
   ],
   "source": [
    "de [1]"
   ]
  },
  {
   "cell_type": "code",
   "execution_count": 7,
   "id": "40f531ca-395f-4225-b3fb-6f9138689206",
   "metadata": {},
   "outputs": [
    {
     "data": {
      "text/plain": [
       "{'name': 'shirin', 'family': 'shirini'}"
      ]
     },
     "execution_count": 7,
     "metadata": {},
     "output_type": "execute_result"
    }
   ],
   "source": [
    "de [2]"
   ]
  },
  {
   "cell_type": "code",
   "execution_count": 8,
   "id": "9d42ae7b-b1b9-4089-8882-7819bffd9636",
   "metadata": {},
   "outputs": [],
   "source": [
    "persian_gulf_standing = [\n",
    "    ['Esteghlel F.C', 1],\n",
    "    ['Sepahan', 2],\n",
    "    ['Perspolis', 3],\n",
    "    ['Gol Gohar', 4],\n",
    "    ['Foolad', 5]\n",
    "]"
   ]
  },
  {
   "cell_type": "code",
   "execution_count": 9,
   "id": "31747630-0f21-48d7-a79f-1c3dde148af9",
   "metadata": {},
   "outputs": [
    {
     "data": {
      "text/plain": [
       "{'Esteghlel F.C': 1, 'Sepahan': 2, 'Perspolis': 3, 'Gol Gohar': 4, 'Foolad': 5}"
      ]
     },
     "execution_count": 9,
     "metadata": {},
     "output_type": "execute_result"
    }
   ],
   "source": [
    "dict(persian_gulf_standing)"
   ]
  },
  {
   "cell_type": "code",
   "execution_count": 11,
   "id": "5ac1cb8c-b136-4652-a0d2-297d3a62b18b",
   "metadata": {},
   "outputs": [],
   "source": [
    " rostam_data = {\n",
    "    \"name\": \"Rostam\",\n",
    "    \"nationality\": \"Turanian\",\n",
    "    \"father\": \"Zal\" ,\n",
    "    \"mother\": \"Rudaabeh\",\n",
    "    \"spouse\": \"Tahmineh\",\n",
    "    \"grandfather\": \"Sam\",\n",
    "    \"delivery\": \"C-Section\",\n",
    "    \"POB\": \"Zabol\",\n",
    "    \"POD\" : \"Kabul\",\n",
    "}"
   ]
  },
  {
   "cell_type": "code",
   "execution_count": 17,
   "id": "81746c29-875f-41aa-a101-53f9e2605501",
   "metadata": {},
   "outputs": [
    {
     "name": "stdout",
     "output_type": "stream",
     "text": [
      "Rudaabeh Tahmineh\n"
     ]
    }
   ],
   "source": [
    "print( rostam_data['mother'] , rostam_data['spouse'] )"
   ]
  },
  {
   "cell_type": "code",
   "execution_count": 18,
   "id": "5a2b753f-3a29-486f-93eb-8c3e328763f8",
   "metadata": {},
   "outputs": [
    {
     "name": "stdout",
     "output_type": "stream",
     "text": [
      "rostam's mother is: Rudaabeh, rostam's wife is: Tahmineh\n"
     ]
    }
   ],
   "source": [
    "print(f\"rostam's mother is: {rostam_data['mother']}, rostam's wife is: {rostam_data['spouse']}\")"
   ]
  },
  {
   "cell_type": "code",
   "execution_count": 35,
   "id": "090f1aed-455b-43cd-a1f4-58e48a1bd9fc",
   "metadata": {},
   "outputs": [
    {
     "name": "stdout",
     "output_type": "stream",
     "text": [
      "rostam's mother is : Rudaabehrostam's wife is : Tahmineh\n"
     ]
    }
   ],
   "source": [
    " print (f\"rostam's mother is : {rostam_data['mother']}\" \\\n",
    "       f\"rostam's wife is : {rostam_data['spouse']}\")"
   ]
  },
  {
   "cell_type": "code",
   "execution_count": 28,
   "id": "3ba706e1-c136-4038-8a42-dd861418b525",
   "metadata": {},
   "outputs": [
    {
     "name": "stdout",
     "output_type": "stream",
     "text": [
      "rostam's mother: Rudaabehrostam's wife: Tahmineh\n"
     ]
    }
   ],
   "source": [
    "print(f\"rostam's mother: {rostam_data['mother']}\\\n",
    "rostam's wife: {rostam_data['spouse']}\")"
   ]
  },
  {
   "cell_type": "code",
   "execution_count": 36,
   "id": "e8c1024a-d020-4ad4-b0a9-1465c284264f",
   "metadata": {},
   "outputs": [],
   "source": [
    "rostam_data = {\n",
    "    \"name\": \"Rostam\",\n",
    "    \"nationality\": \"Turanian\",\n",
    "    \"father\": \"Zal\" ,\n",
    "    \"mother\": \"Rudaabeh\",\n",
    "    \"spouse\": \"Tahmineh\",\n",
    "    \"grandfather\": \"Sam\",\n",
    "    \"delivery\": \"C-Section\",\n",
    "    \"POB\": \"Zabol\",\n",
    "    \"POD\" : \"Kabul\"\n",
    "}\n"
   ]
  },
  {
   "cell_type": "code",
   "execution_count": 39,
   "id": "2f02e28e-fb95-4ede-9075-d0f3ee4ecaf0",
   "metadata": {},
   "outputs": [],
   "source": [
    "rostam_data ['nationality'] = 'Iranian'"
   ]
  },
  {
   "cell_type": "code",
   "execution_count": 40,
   "id": "5e38f227-3649-4475-bb12-9c5ec676e416",
   "metadata": {},
   "outputs": [
    {
     "data": {
      "text/plain": [
       "{'name': 'Rostam',\n",
       " 'nationality': 'Iranian',\n",
       " 'father': 'Zal',\n",
       " 'mother': 'Rudaabeh',\n",
       " 'spouse': 'Tahmineh',\n",
       " 'grandfather': 'Sam',\n",
       " 'delivery': 'C-Section',\n",
       " 'POB': 'Zabol',\n",
       " 'POD': 'Kabul',\n",
       " 'Turanian': 'Iranian'}"
      ]
     },
     "execution_count": 40,
     "metadata": {},
     "output_type": "execute_result"
    }
   ],
   "source": [
    "rostam_data"
   ]
  },
  {
   "cell_type": "code",
   "execution_count": 43,
   "id": "6ab5a319-437e-467d-84ab-69c7a41aaa15",
   "metadata": {},
   "outputs": [],
   "source": [
    "rostam_data ['children'] = ['Sohrab', 'Faramarz', 'Jahangir', 'Siyavash', 'Banu-Goshasp']"
   ]
  },
  {
   "cell_type": "code",
   "execution_count": 44,
   "id": "5dc1aebe-025b-44ca-b154-b29409790b6a",
   "metadata": {},
   "outputs": [
    {
     "ename": "SyntaxError",
     "evalue": "invalid syntax (4102628068.py, line 1)",
     "output_type": "error",
     "traceback": [
      "\u001b[0;36m  Cell \u001b[0;32mIn [44], line 1\u001b[0;36m\u001b[0m\n\u001b[0;31m    Sohrab, Faramarz, Jahangir, Siyavash, and Banu-Goshasp\u001b[0m\n\u001b[0m                                          ^\u001b[0m\n\u001b[0;31mSyntaxError\u001b[0m\u001b[0;31m:\u001b[0m invalid syntax\n"
     ]
    }
   ],
   "source": [
    "Sohrab, Faramarz, Jahangir, Siyavash, and Banu-Goshasp"
   ]
  },
  {
   "cell_type": "code",
   "execution_count": 45,
   "id": "96c7855d-76fe-4cba-9040-8587aecc400d",
   "metadata": {},
   "outputs": [
    {
     "data": {
      "text/plain": [
       "{'name': 'Rostam',\n",
       " 'nationality': 'Iranian',\n",
       " 'father': 'Zal',\n",
       " 'mother': 'Rudaabeh',\n",
       " 'spouse': 'Tahmineh',\n",
       " 'grandfather': 'Sam',\n",
       " 'delivery': 'C-Section',\n",
       " 'POB': 'Zabol',\n",
       " 'POD': 'Kabul',\n",
       " 'Turanian': 'Iranian',\n",
       " 'children': ['Sohrab', 'Faramarz', 'Jahangir', 'Siyavash', 'Banu-Goshasp']}"
      ]
     },
     "execution_count": 45,
     "metadata": {},
     "output_type": "execute_result"
    }
   ],
   "source": [
    "rostam_data"
   ]
  },
  {
   "cell_type": "code",
   "execution_count": 62,
   "id": "f5cbb501-8f9d-479c-af8a-8cfead10145c",
   "metadata": {},
   "outputs": [],
   "source": [
    "d1 = {'family' : 'Hijezi', 'age' : 29}\n",
    "d2 = {'name' :'ali', 'nationality' : 'Iraner'}"
   ]
  },
  {
   "cell_type": "code",
   "execution_count": 63,
   "id": "06042812-1d65-4fa3-9440-0b11eb5b89e5",
   "metadata": {},
   "outputs": [],
   "source": [
    "d3 = {**d1,**d2}"
   ]
  },
  {
   "cell_type": "code",
   "execution_count": 64,
   "id": "41000088-bddb-4ef5-8cd5-937a2ce918dc",
   "metadata": {},
   "outputs": [
    {
     "data": {
      "text/plain": [
       "{'family': 'Hijezi', 'age': 29, 'name': 'ali', 'nationality': 'Iraner'}"
      ]
     },
     "execution_count": 64,
     "metadata": {},
     "output_type": "execute_result"
    }
   ],
   "source": [
    "d3"
   ]
  },
  {
   "cell_type": "code",
   "execution_count": 66,
   "id": "a220cf16-e94c-424e-b359-3c27ebe1eb93",
   "metadata": {},
   "outputs": [],
   "source": [
    "d1 . update( d2 )"
   ]
  },
  {
   "cell_type": "code",
   "execution_count": 67,
   "id": "8f22e7b4-c405-4bc4-8f25-43c7afb21346",
   "metadata": {},
   "outputs": [
    {
     "data": {
      "text/plain": [
       "{'family': 'Hijezi', 'age': 29, 'name': 'ali', 'nationality': 'Iraner'}"
      ]
     },
     "execution_count": 67,
     "metadata": {},
     "output_type": "execute_result"
    }
   ],
   "source": [
    "d1"
   ]
  },
  {
   "cell_type": "code",
   "execution_count": 68,
   "id": "eea658b4-c5c0-4dc6-bb68-3e5007f4e52b",
   "metadata": {},
   "outputs": [
    {
     "data": {
      "text/plain": [
       "'mangool'"
      ]
     },
     "execution_count": 68,
     "metadata": {},
     "output_type": "execute_result"
    }
   ],
   "source": [
    "d1. get ('shangool', 'mangool')"
   ]
  },
  {
   "cell_type": "code",
   "execution_count": 69,
   "id": "b9b65171-0c99-48c9-9583-bdcfa455c01b",
   "metadata": {},
   "outputs": [
    {
     "data": {
      "text/plain": [
       "-87"
      ]
     },
     "execution_count": 69,
     "metadata": {},
     "output_type": "execute_result"
    }
   ],
   "source": [
    "d1.get('date of birth', -87)"
   ]
  },
  {
   "cell_type": "code",
   "execution_count": 70,
   "id": "4f97840b-fca0-4961-9446-ac0bb883448f",
   "metadata": {},
   "outputs": [
    {
     "ename": "SyntaxError",
     "evalue": "invalid syntax (1587612278.py, line 1)",
     "output_type": "error",
     "traceback": [
      "\u001b[0;36m  Cell \u001b[0;32mIn [70], line 1\u001b[0;36m\u001b[0m\n\u001b[0;31m    1. foo = {1: 'aaaa', 3.14: 'bbbb', 6.18: 'ccc'}\u001b[0m\n\u001b[0m       ^\u001b[0m\n\u001b[0;31mSyntaxError\u001b[0m\u001b[0;31m:\u001b[0m invalid syntax\n"
     ]
    }
   ],
   "source": [
    "1. foo = {1: 'aaaa', 3.14: 'bbbb', 6.18: 'ccc'}\n",
    "2. foo = {[1, 3.14]: 'a', [2, 6.28]: 'b'}\n",
    "3. foo = {(1, 3.14): 'a', (2, 12.56): 'b'}\n",
    "4. foo = {dict: [], float: 2, int: 3.14}"
   ]
  },
  {
   "cell_type": "code",
   "execution_count": 71,
   "id": "a2964b8b-0934-4db5-b899-2593f55bb9d7",
   "metadata": {},
   "outputs": [
    {
     "data": {
      "text/plain": [
       "1"
      ]
     },
     "execution_count": 71,
     "metadata": {},
     "output_type": "execute_result"
    }
   ],
   "source": [
    "hash (1)"
   ]
  },
  {
   "cell_type": "code",
   "execution_count": 80,
   "id": "907a9ec1-2953-41af-a960-f5be14fa5241",
   "metadata": {},
   "outputs": [
    {
     "data": {
      "text/plain": [
       "{1: 'aaaa', 3.14: 'bbbb', 6.18: 'ccc'}"
      ]
     },
     "execution_count": 80,
     "metadata": {},
     "output_type": "execute_result"
    }
   ],
   "source": [
    "foo"
   ]
  },
  {
   "cell_type": "code",
   "execution_count": 81,
   "id": "12e9c5be-87f6-41e2-933f-e1193a841dfe",
   "metadata": {},
   "outputs": [
    {
     "ename": "TypeError",
     "evalue": "unhashable type: 'list'",
     "output_type": "error",
     "traceback": [
      "\u001b[0;31m---------------------------------------------------------------------------\u001b[0m",
      "\u001b[0;31mTypeError\u001b[0m                                 Traceback (most recent call last)",
      "Cell \u001b[0;32mIn [81], line 1\u001b[0m\n\u001b[0;32m----> 1\u001b[0m foo \u001b[38;5;241m=\u001b[39m {[\u001b[38;5;241m1\u001b[39m, \u001b[38;5;241m3.14\u001b[39m]: \u001b[38;5;124m'\u001b[39m\u001b[38;5;124ma\u001b[39m\u001b[38;5;124m'\u001b[39m, [\u001b[38;5;241m2\u001b[39m, \u001b[38;5;241m6.28\u001b[39m]: \u001b[38;5;124m'\u001b[39m\u001b[38;5;124mb\u001b[39m\u001b[38;5;124m'\u001b[39m}\n",
      "\u001b[0;31mTypeError\u001b[0m: unhashable type: 'list'"
     ]
    }
   ],
   "source": [
    "foo = {[1, 3.14]: 'a', [2, 6.28]: 'b'}"
   ]
  },
  {
   "cell_type": "code",
   "execution_count": 82,
   "id": "ab842d2b-424e-46ed-a670-3f972c248043",
   "metadata": {},
   "outputs": [],
   "source": [
    "foo = {(1, 3.14): 'a', (2, 12.56): 'b'}"
   ]
  },
  {
   "cell_type": "code",
   "execution_count": 83,
   "id": "74ad1453-b832-4e5a-93a4-1937fff27dbf",
   "metadata": {},
   "outputs": [],
   "source": [
    "foo = {dict: [], float: 2, int: 3.14}"
   ]
  },
  {
   "cell_type": "code",
   "execution_count": 85,
   "id": "5a792f06-649e-4b9a-8fb5-22defc9eb6bb",
   "metadata": {},
   "outputs": [
    {
     "ename": "TypeError",
     "evalue": "unhashable type: 'list'",
     "output_type": "error",
     "traceback": [
      "\u001b[0;31m---------------------------------------------------------------------------\u001b[0m",
      "\u001b[0;31mTypeError\u001b[0m                                 Traceback (most recent call last)",
      "Cell \u001b[0;32mIn [85], line 1\u001b[0m\n\u001b[0;32m----> 1\u001b[0m \u001b[38;5;28;43mhash\u001b[39;49m\u001b[43m \u001b[49m\u001b[43m(\u001b[49m\u001b[43m[\u001b[49m\u001b[38;5;241;43m1\u001b[39;49m\u001b[43m,\u001b[49m\u001b[43m \u001b[49m\u001b[38;5;241;43m3.14\u001b[39;49m\u001b[43m]\u001b[49m\u001b[43m)\u001b[49m\n",
      "\u001b[0;31mTypeError\u001b[0m: unhashable type: 'list'"
     ]
    }
   ],
   "source": [
    "hash ([1, 3.14]) # list is not hashabale"
   ]
  },
  {
   "cell_type": "code",
   "execution_count": 86,
   "id": "5e0ecd30-985c-4f2b-997c-7126e7af4d73",
   "metadata": {},
   "outputs": [
    {
     "data": {
      "text/plain": [
       "-4564556470470010287"
      ]
     },
     "execution_count": 86,
     "metadata": {},
     "output_type": "execute_result"
    }
   ],
   "source": [
    "hash ((1, 3.14))"
   ]
  },
  {
   "cell_type": "code",
   "execution_count": 87,
   "id": "8a5078e3-2394-425c-a208-71912f0cbd75",
   "metadata": {},
   "outputs": [
    {
     "ename": "AttributeError",
     "evalue": "'builtin_function_or_method' object has no attribute 'dict'",
     "output_type": "error",
     "traceback": [
      "\u001b[0;31m---------------------------------------------------------------------------\u001b[0m",
      "\u001b[0;31mAttributeError\u001b[0m                            Traceback (most recent call last)",
      "Cell \u001b[0;32mIn [87], line 1\u001b[0m\n\u001b[0;32m----> 1\u001b[0m \u001b[38;5;28;43mhash\u001b[39;49m\u001b[38;5;241;43m.\u001b[39;49m\u001b[43mdict\u001b[49m\n",
      "\u001b[0;31mAttributeError\u001b[0m: 'builtin_function_or_method' object has no attribute 'dict'"
     ]
    }
   ],
   "source": [
    "hash.dict "
   ]
  },
  {
   "cell_type": "code",
   "execution_count": 97,
   "id": "f2da7588-8457-41ac-9d77-dcd88fba78e7",
   "metadata": {},
   "outputs": [],
   "source": [
    "bmw = {}"
   ]
  },
  {
   "cell_type": "code",
   "execution_count": 98,
   "id": "966038f1-8a2d-41d9-8d0b-912dba479a4a",
   "metadata": {},
   "outputs": [],
   "source": [
    "bmw['country'] = 'germany'"
   ]
  },
  {
   "cell_type": "code",
   "execution_count": 95,
   "id": "9a91cd24-3f7e-4e26-bc12-7a2a88544cea",
   "metadata": {},
   "outputs": [
    {
     "data": {
      "text/plain": [
       "{'country': 'germany'}"
      ]
     },
     "execution_count": 95,
     "metadata": {},
     "output_type": "execute_result"
    }
   ],
   "source": [
    "bmw"
   ]
  },
  {
   "cell_type": "markdown",
   "id": "7256dbd2-7e32-4fbc-9e72-4608ae77778f",
   "metadata": {},
   "source": [
    "bmw['colour'] ='red'"
   ]
  },
  {
   "cell_type": "code",
   "execution_count": 102,
   "id": "40b75eb7-e2f7-433e-a747-7b05817d2f82",
   "metadata": {},
   "outputs": [
    {
     "data": {
      "text/plain": [
       "{'country': 'germany'}"
      ]
     },
     "execution_count": 102,
     "metadata": {},
     "output_type": "execute_result"
    }
   ],
   "source": [
    "bmw"
   ]
  },
  {
   "cell_type": "code",
   "execution_count": 103,
   "id": "90a7681e-5be2-4b67-b5bf-22c9abbe3e17",
   "metadata": {},
   "outputs": [
    {
     "ename": "SyntaxError",
     "evalue": "cannot assign to literal here. Maybe you meant '==' instead of '='? (1192744292.py, line 1)",
     "output_type": "error",
     "traceback": [
      "\u001b[0;36m  Cell \u001b[0;32mIn [103], line 1\u001b[0;36m\u001b[0m\n\u001b[0;31m    bmw {'color'= 'red' , 'country' = 'germany'}\u001b[0m\n\u001b[0m         ^\u001b[0m\n\u001b[0;31mSyntaxError\u001b[0m\u001b[0;31m:\u001b[0m cannot assign to literal here. Maybe you meant '==' instead of '='?\n"
     ]
    }
   ],
   "source": [
    "bmw {'color'= 'red' , 'country' = 'germany'}"
   ]
  },
  {
   "cell_type": "code",
   "execution_count": null,
   "id": "68a5d4ac-7d04-4335-8c7b-3d5d8d39db51",
   "metadata": {},
   "outputs": [],
   "source": []
  }
 ],
 "metadata": {
  "kernelspec": {
   "display_name": "Python 3 (ipykernel)",
   "language": "python",
   "name": "python3"
  },
  "language_info": {
   "codemirror_mode": {
    "name": "ipython",
    "version": 3
   },
   "file_extension": ".py",
   "mimetype": "text/x-python",
   "name": "python",
   "nbconvert_exporter": "python",
   "pygments_lexer": "ipython3",
   "version": "3.10.4"
  },
  "widgets": {
   "application/vnd.jupyter.widget-state+json": {
    "state": {},
    "version_major": 2,
    "version_minor": 0
   }
  }
 },
 "nbformat": 4,
 "nbformat_minor": 5
}
